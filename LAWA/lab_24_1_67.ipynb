{
 "cells": [
  {
   "cell_type": "code",
   "execution_count": 1,
   "metadata": {},
   "outputs": [],
   "source": [
    "import numpy as np"
   ]
  },
  {
   "cell_type": "code",
   "execution_count": 2,
   "metadata": {},
   "outputs": [
    {
     "data": {
      "text/plain": [
       "array([[1, 2, 3],\n",
       "       [4, 5, 6],\n",
       "       [7, 8, 9]])"
      ]
     },
     "execution_count": 2,
     "metadata": {},
     "output_type": "execute_result"
    }
   ],
   "source": [
    "a = np.array([[1,2,3],[4,5,6],[7,8,9]])\n",
    "a"
   ]
  },
  {
   "cell_type": "code",
   "execution_count": 3,
   "metadata": {},
   "outputs": [
    {
     "data": {
      "text/plain": [
       "6.66133814775094e-16"
      ]
     },
     "execution_count": 3,
     "metadata": {},
     "output_type": "execute_result"
    }
   ],
   "source": [
    "np.linalg.det(a)"
   ]
  },
  {
   "cell_type": "code",
   "execution_count": 4,
   "metadata": {},
   "outputs": [
    {
     "data": {
      "text/plain": [
       "array([[1, 4, 7],\n",
       "       [2, 5, 8],\n",
       "       [3, 6, 9]])"
      ]
     },
     "execution_count": 4,
     "metadata": {},
     "output_type": "execute_result"
    }
   ],
   "source": [
    "a.T"
   ]
  },
  {
   "cell_type": "markdown",
   "metadata": {},
   "source": [
    "# Act"
   ]
  },
  {
   "cell_type": "code",
   "execution_count": 5,
   "metadata": {},
   "outputs": [
    {
     "name": "stdout",
     "output_type": "stream",
     "text": [
      "[[ 4  1  1 -5]\n",
      " [ 1 -7  2 -1]\n",
      " [ 3  0  4 -5]\n",
      " [ 1  2  0 -1]] \n",
      "\n",
      " [[ 0]\n",
      " [11]\n",
      " [ 6]\n",
      " [-5]]\n"
     ]
    }
   ],
   "source": [
    "A = np.array([[4,1,1,-5],[1,-7,2,-1],[3,0,4,-5],[1,2,0,-1]])\n",
    "B = np.array([[0],[11],[6],[-5]])\n",
    "d_A = np.linalg.det(A)\n",
    "print(A,\"\\n\\n\",B)"
   ]
  },
  {
   "cell_type": "code",
   "execution_count": 6,
   "metadata": {},
   "outputs": [
    {
     "data": {
      "text/plain": [
       "array([[-7.73529412],\n",
       "       [-2.05882353],\n",
       "       [-1.26470588],\n",
       "       [-6.85294118]])"
      ]
     },
     "execution_count": 6,
     "metadata": {},
     "output_type": "execute_result"
    }
   ],
   "source": [
    "np.linalg.solve(A,B)"
   ]
  },
  {
   "cell_type": "code",
   "execution_count": 7,
   "metadata": {},
   "outputs": [
    {
     "data": {
      "text/plain": [
       "array([[ 0,  1,  1, -5],\n",
       "       [11, -7,  2, -1],\n",
       "       [ 6,  0,  4, -5],\n",
       "       [-5,  2,  0, -1]])"
      ]
     },
     "execution_count": 7,
     "metadata": {},
     "output_type": "execute_result"
    }
   ],
   "source": [
    "A1 = np.array([[0,1,1,-5],[11,-7,2,-1],[6,0,4,-5],[-5,2,0,-1]])\n",
    "A1"
   ]
  },
  {
   "cell_type": "code",
   "execution_count": 8,
   "metadata": {},
   "outputs": [
    {
     "data": {
      "text/plain": [
       "-7.735294117647062"
      ]
     },
     "execution_count": 8,
     "metadata": {},
     "output_type": "execute_result"
    }
   ],
   "source": [
    "np.linalg.det(A1)/np.linalg.det(A)"
   ]
  },
  {
   "cell_type": "code",
   "execution_count": 9,
   "metadata": {},
   "outputs": [
    {
     "data": {
      "text/plain": [
       "array([[ 4,  0,  1, -5],\n",
       "       [ 1, 11,  2, -1],\n",
       "       [ 3,  6,  4, -5],\n",
       "       [ 1, -5,  0, -1]])"
      ]
     },
     "execution_count": 9,
     "metadata": {},
     "output_type": "execute_result"
    }
   ],
   "source": [
    "A2 = np.array([[4,0,1,-5],[1,11,2,-1],[3,6,4,-5],[1,-5,0,-1]])\n",
    "A2"
   ]
  },
  {
   "cell_type": "code",
   "execution_count": 10,
   "metadata": {},
   "outputs": [
    {
     "data": {
      "text/plain": [
       "-2.058823529411766"
      ]
     },
     "execution_count": 10,
     "metadata": {},
     "output_type": "execute_result"
    }
   ],
   "source": [
    "np.linalg.det(A2)/np.linalg.det(A)"
   ]
  },
  {
   "cell_type": "code",
   "execution_count": 11,
   "metadata": {},
   "outputs": [
    {
     "data": {
      "text/plain": [
       "array([[ 4,  1,  0, -5],\n",
       "       [ 1, -7, 11, -1],\n",
       "       [ 3,  0,  6, -5],\n",
       "       [ 1,  2, -5, -1]])"
      ]
     },
     "execution_count": 11,
     "metadata": {},
     "output_type": "execute_result"
    }
   ],
   "source": [
    "A3 = np.array([[4,1,0,-5],[1,-7,11,-1],[3,0,6,-5],[1,2,-5,-1]])\n",
    "A3"
   ]
  },
  {
   "cell_type": "code",
   "execution_count": 12,
   "metadata": {},
   "outputs": [
    {
     "data": {
      "text/plain": [
       "-1.2647058823529418"
      ]
     },
     "execution_count": 12,
     "metadata": {},
     "output_type": "execute_result"
    }
   ],
   "source": [
    "np.linalg.det(A3)/np.linalg.det(A)"
   ]
  },
  {
   "cell_type": "code",
   "execution_count": 13,
   "metadata": {},
   "outputs": [
    {
     "data": {
      "text/plain": [
       "array([[ 4,  1,  1,  0],\n",
       "       [ 1, -7,  2, 11],\n",
       "       [ 3,  0,  4,  6],\n",
       "       [ 1,  2,  0, -5]])"
      ]
     },
     "execution_count": 13,
     "metadata": {},
     "output_type": "execute_result"
    }
   ],
   "source": [
    "A4 = np.array([[4,1,1,0],[1,-7,2,11],[3,0,4,6],[1,2,0,-5]])\n",
    "A4"
   ]
  },
  {
   "cell_type": "code",
   "execution_count": 14,
   "metadata": {},
   "outputs": [
    {
     "data": {
      "text/plain": [
       "-6.852941176470587"
      ]
     },
     "execution_count": 14,
     "metadata": {},
     "output_type": "execute_result"
    }
   ],
   "source": [
    "np.linalg.det(A4)/np.linalg.det(A)"
   ]
  },
  {
   "cell_type": "markdown",
   "metadata": {},
   "source": [
    "# 2"
   ]
  },
  {
   "cell_type": "code",
   "execution_count": 15,
   "metadata": {},
   "outputs": [
    {
     "data": {
      "text/plain": [
       "array([[ 0,  1,  1, -5],\n",
       "       [11, -7,  2, -1],\n",
       "       [ 6,  0,  4, -5],\n",
       "       [-5,  2,  0, -1]])"
      ]
     },
     "execution_count": 15,
     "metadata": {},
     "output_type": "execute_result"
    }
   ],
   "source": [
    "A1 = A\n",
    "for i in range(4):\n",
    "    A1[i,0] = B[i]\n",
    "A1"
   ]
  },
  {
   "cell_type": "code",
   "execution_count": 16,
   "metadata": {},
   "outputs": [
    {
     "data": {
      "text/plain": [
       "-7.735294117647062"
      ]
     },
     "execution_count": 16,
     "metadata": {},
     "output_type": "execute_result"
    }
   ],
   "source": [
    "np.linalg.det(A1)/d_A"
   ]
  },
  {
   "cell_type": "code",
   "execution_count": 17,
   "metadata": {},
   "outputs": [],
   "source": [
    "A = np.array([[4,1,1,-5],[1,-7,2,-1],[3,0,4,-5],[1,2,0,-1]])\n",
    "B = np.array([[0],[11],[6],[-5]])\n",
    "d_A = np.linalg.det(A)"
   ]
  },
  {
   "cell_type": "code",
   "execution_count": 18,
   "metadata": {},
   "outputs": [
    {
     "data": {
      "text/plain": [
       "array([[ 4,  0,  1, -5],\n",
       "       [ 1, 11,  2, -1],\n",
       "       [ 3,  6,  4, -5],\n",
       "       [ 1, -5,  0, -1]])"
      ]
     },
     "execution_count": 18,
     "metadata": {},
     "output_type": "execute_result"
    }
   ],
   "source": [
    "A2 = A\n",
    "for i in range(4):\n",
    "    A2[i,1] = B[i]\n",
    "A2"
   ]
  },
  {
   "cell_type": "code",
   "execution_count": 19,
   "metadata": {},
   "outputs": [
    {
     "data": {
      "text/plain": [
       "-2.058823529411766"
      ]
     },
     "execution_count": 19,
     "metadata": {},
     "output_type": "execute_result"
    }
   ],
   "source": [
    "np.linalg.det(A2)/d_A"
   ]
  },
  {
   "cell_type": "code",
   "execution_count": 20,
   "metadata": {},
   "outputs": [],
   "source": [
    "A = np.array([[4,1,1,-5],[1,-7,2,-1],[3,0,4,-5],[1,2,0,-1]])\n",
    "B = np.array([[0],[11],[6],[-5]])\n",
    "d_A = np.linalg.det(A)"
   ]
  },
  {
   "cell_type": "code",
   "execution_count": 21,
   "metadata": {},
   "outputs": [
    {
     "data": {
      "text/plain": [
       "array([[ 4,  1,  0, -5],\n",
       "       [ 1, -7, 11, -1],\n",
       "       [ 3,  0,  6, -5],\n",
       "       [ 1,  2, -5, -1]])"
      ]
     },
     "execution_count": 21,
     "metadata": {},
     "output_type": "execute_result"
    }
   ],
   "source": [
    "A3 = A\n",
    "for i in range(4):\n",
    "    A3[i,2] = B[i]\n",
    "A3"
   ]
  },
  {
   "cell_type": "code",
   "execution_count": 22,
   "metadata": {},
   "outputs": [
    {
     "data": {
      "text/plain": [
       "-1.2647058823529418"
      ]
     },
     "execution_count": 22,
     "metadata": {},
     "output_type": "execute_result"
    }
   ],
   "source": [
    "np.linalg.det(A3)/d_A"
   ]
  },
  {
   "cell_type": "code",
   "execution_count": 23,
   "metadata": {},
   "outputs": [],
   "source": [
    "A = np.array([[4,1,1,-5],[1,-7,2,-1],[3,0,4,-5],[1,2,0,-1]])\n",
    "B = np.array([[0],[11],[6],[-5]])\n",
    "d_A = np.linalg.det(A)"
   ]
  },
  {
   "cell_type": "code",
   "execution_count": 24,
   "metadata": {},
   "outputs": [
    {
     "data": {
      "text/plain": [
       "array([[ 4,  1,  1,  0],\n",
       "       [ 1, -7,  2, 11],\n",
       "       [ 3,  0,  4,  6],\n",
       "       [ 1,  2,  0, -5]])"
      ]
     },
     "execution_count": 24,
     "metadata": {},
     "output_type": "execute_result"
    }
   ],
   "source": [
    "A4 = A\n",
    "for i in range(4):\n",
    "    A4[i,3] = B[i]\n",
    "A4"
   ]
  },
  {
   "cell_type": "code",
   "execution_count": 25,
   "metadata": {},
   "outputs": [
    {
     "data": {
      "text/plain": [
       "-6.852941176470587"
      ]
     },
     "execution_count": 25,
     "metadata": {},
     "output_type": "execute_result"
    }
   ],
   "source": [
    "np.linalg.det(A4)/d_A"
   ]
  },
  {
   "cell_type": "markdown",
   "metadata": {},
   "source": [
    "# 3"
   ]
  },
  {
   "cell_type": "code",
   "execution_count": 26,
   "metadata": {},
   "outputs": [],
   "source": [
    "A = np.array([[4,1,1,-5],[1,-7,2,-1],[3,0,4,-5],[1,2,0,-1]])\n",
    "B = np.array([[0],[11],[6],[-5]])\n",
    "d_A = np.linalg.det(A)"
   ]
  },
  {
   "cell_type": "code",
   "execution_count": 27,
   "metadata": {},
   "outputs": [
    {
     "name": "stdout",
     "output_type": "stream",
     "text": [
      "[[ 4  1  1 -5]\n",
      " [ 1 -7  2 -1]\n",
      " [ 3  0  4 -5]\n",
      " [ 1  2  0 -1]] \n",
      "\n",
      " [[ 0  1  1 -5]\n",
      " [11 -7  2 -1]\n",
      " [ 6  0  4 -5]\n",
      " [-5  2  0 -1]] \n",
      "\n",
      " [[ 4  0  1 -5]\n",
      " [ 1 11  2 -1]\n",
      " [ 3  6  4 -5]\n",
      " [ 1 -5  0 -1]] \n",
      "\n",
      " [[ 4  1  0 -5]\n",
      " [ 1 -7 11 -1]\n",
      " [ 3  0  6 -5]\n",
      " [ 1  2 -5 -1]] \n",
      "\n",
      " [[ 4  1  1  0]\n",
      " [ 1 -7  2 11]\n",
      " [ 3  0  4  6]\n",
      " [ 1  2  0 -5]]\n"
     ]
    }
   ],
   "source": [
    "A1 = np.copy(A)\n",
    "A2 = np.copy(A)\n",
    "A3 = np.copy(A)\n",
    "A4 = np.copy(A)\n",
    "for i in range(4):\n",
    "    A1[i,0] = B[i]\n",
    "    A2[i,1] = B[i]\n",
    "    A3[i,2] = B[i]\n",
    "    A4[i,3] = B[i]\n",
    "print(A,\"\\n\\n\",A1,\"\\n\\n\",A2,\"\\n\\n\",A3,\"\\n\\n\",A4)"
   ]
  },
  {
   "cell_type": "code",
   "execution_count": 28,
   "metadata": {},
   "outputs": [
    {
     "name": "stdout",
     "output_type": "stream",
     "text": [
      "-7.735294117647062   -2.058823529411766   -1.2647058823529418   -6.852941176470587\n"
     ]
    }
   ],
   "source": [
    "x1 = np.linalg.det(A1)/d_A\n",
    "x2 = np.linalg.det(A2)/d_A\n",
    "x3 = np.linalg.det(A3)/d_A\n",
    "x4 = np.linalg.det(A4)/d_A\n",
    "print(x1,\" \",x2,\" \",x3,\" \",x4)"
   ]
  },
  {
   "cell_type": "code",
   "execution_count": 29,
   "metadata": {},
   "outputs": [
    {
     "data": {
      "text/plain": [
       "array([[-7.73529412],\n",
       "       [-2.05882353],\n",
       "       [-1.26470588],\n",
       "       [-6.85294118]])"
      ]
     },
     "execution_count": 29,
     "metadata": {},
     "output_type": "execute_result"
    }
   ],
   "source": [
    "X = np.array([[x1],[x2],[x3],[x4]])\n",
    "X"
   ]
  },
  {
   "cell_type": "code",
   "execution_count": 30,
   "metadata": {},
   "outputs": [
    {
     "name": "stdout",
     "output_type": "stream",
     "text": [
      "[[ 0]\n",
      " [11]\n",
      " [ 6]\n",
      " [-5]]\n"
     ]
    }
   ],
   "source": [
    "print(B)"
   ]
  },
  {
   "cell_type": "code",
   "execution_count": 31,
   "metadata": {},
   "outputs": [
    {
     "data": {
      "text/plain": [
       "array([[-2.13162821e-14],\n",
       "       [ 1.10000000e+01],\n",
       "       [ 6.00000000e+00],\n",
       "       [-5.00000000e+00]])"
      ]
     },
     "execution_count": 31,
     "metadata": {},
     "output_type": "execute_result"
    }
   ],
   "source": [
    "np.matmul(A,X)"
   ]
  },
  {
   "cell_type": "code",
   "execution_count": 32,
   "metadata": {},
   "outputs": [
    {
     "data": {
      "text/plain": [
       "array([[-2.13162821e-14],\n",
       "       [ 1.10000000e+01],\n",
       "       [ 6.00000000e+00],\n",
       "       [-5.00000000e+00]])"
      ]
     },
     "execution_count": 32,
     "metadata": {},
     "output_type": "execute_result"
    }
   ],
   "source": [
    "A@X"
   ]
  },
  {
   "cell_type": "code",
   "execution_count": 33,
   "metadata": {},
   "outputs": [
    {
     "data": {
      "text/plain": [
       "array([[-7.73529412],\n",
       "       [-2.05882353],\n",
       "       [-1.26470588],\n",
       "       [-6.85294118]])"
      ]
     },
     "execution_count": 33,
     "metadata": {},
     "output_type": "execute_result"
    }
   ],
   "source": [
    "np.linalg.solve(A,B)"
   ]
  },
  {
   "cell_type": "code",
   "execution_count": null,
   "metadata": {},
   "outputs": [],
   "source": []
  }
 ],
 "metadata": {
  "kernelspec": {
   "display_name": "Python 3",
   "language": "python",
   "name": "python3"
  },
  "language_info": {
   "codemirror_mode": {
    "name": "ipython",
    "version": 3
   },
   "file_extension": ".py",
   "mimetype": "text/x-python",
   "name": "python",
   "nbconvert_exporter": "python",
   "pygments_lexer": "ipython3",
   "version": "3.7.4"
  }
 },
 "nbformat": 4,
 "nbformat_minor": 2
}
