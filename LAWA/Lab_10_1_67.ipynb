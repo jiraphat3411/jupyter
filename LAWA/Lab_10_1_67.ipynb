{
 "cells": [
  {
   "cell_type": "code",
   "execution_count": 1,
   "metadata": {},
   "outputs": [],
   "source": [
    "import numpy as np"
   ]
  },
  {
   "cell_type": "markdown",
   "metadata": {},
   "source": [
    "# EX"
   ]
  },
  {
   "cell_type": "code",
   "execution_count": 21,
   "metadata": {},
   "outputs": [
    {
     "ename": "ValueError",
     "evalue": "matmul: Input operand 1 has a mismatch in its core dimension 0, with gufunc signature (n?,k),(k,m?)->(n?,m?) (size 3 is different from 1)",
     "output_type": "error",
     "traceback": [
      "\u001b[1;31m---------------------------------------------------------------------------\u001b[0m",
      "\u001b[1;31mValueError\u001b[0m                                Traceback (most recent call last)",
      "\u001b[1;32m<ipython-input-21-f20a017159db>\u001b[0m in \u001b[0;36m<module>\u001b[1;34m\u001b[0m\n\u001b[0;32m      1\u001b[0m \u001b[0mA\u001b[0m \u001b[1;33m=\u001b[0m \u001b[0mnp\u001b[0m\u001b[1;33m.\u001b[0m\u001b[0marray\u001b[0m\u001b[1;33m(\u001b[0m\u001b[1;33m[\u001b[0m\u001b[1;33m[\u001b[0m\u001b[1;36m1\u001b[0m\u001b[1;33m]\u001b[0m\u001b[1;33m,\u001b[0m\u001b[1;33m[\u001b[0m\u001b[1;36m2\u001b[0m\u001b[1;33m]\u001b[0m\u001b[1;33m]\u001b[0m\u001b[1;33m)\u001b[0m\u001b[1;33m\u001b[0m\u001b[1;33m\u001b[0m\u001b[0m\n\u001b[0;32m      2\u001b[0m \u001b[0mB\u001b[0m \u001b[1;33m=\u001b[0m \u001b[0mnp\u001b[0m\u001b[1;33m.\u001b[0m\u001b[0marray\u001b[0m\u001b[1;33m(\u001b[0m\u001b[1;33m[\u001b[0m\u001b[1;33m[\u001b[0m\u001b[1;36m1\u001b[0m\u001b[1;33m,\u001b[0m\u001b[1;36m2\u001b[0m\u001b[1;33m,\u001b[0m\u001b[1;36m6\u001b[0m\u001b[1;33m]\u001b[0m\u001b[1;33m,\u001b[0m\u001b[1;33m[\u001b[0m\u001b[1;36m2\u001b[0m\u001b[1;33m,\u001b[0m\u001b[1;36m3\u001b[0m\u001b[1;33m,\u001b[0m\u001b[1;33m-\u001b[0m\u001b[1;36m3\u001b[0m\u001b[1;33m]\u001b[0m\u001b[1;33m,\u001b[0m\u001b[1;33m[\u001b[0m\u001b[1;33m-\u001b[0m\u001b[1;36m1\u001b[0m\u001b[1;33m,\u001b[0m\u001b[1;36m0\u001b[0m\u001b[1;33m,\u001b[0m\u001b[1;33m-\u001b[0m\u001b[1;36m5\u001b[0m\u001b[1;33m]\u001b[0m\u001b[1;33m]\u001b[0m\u001b[1;33m)\u001b[0m\u001b[1;33m\u001b[0m\u001b[1;33m\u001b[0m\u001b[0m\n\u001b[1;32m----> 3\u001b[1;33m \u001b[0mprint\u001b[0m\u001b[1;33m(\u001b[0m\u001b[0mA\u001b[0m\u001b[1;33m@\u001b[0m\u001b[0mB\u001b[0m\u001b[1;33m)\u001b[0m\u001b[1;33m\u001b[0m\u001b[1;33m\u001b[0m\u001b[0m\n\u001b[0m",
      "\u001b[1;31mValueError\u001b[0m: matmul: Input operand 1 has a mismatch in its core dimension 0, with gufunc signature (n?,k),(k,m?)->(n?,m?) (size 3 is different from 1)"
     ]
    }
   ],
   "source": [
    "A = np.array([[1],[2]])\n",
    "B = np.array([[1,2,6],[2,3,-3],[-1,0,-5]])\n",
    "print(A@B)"
   ]
  },
  {
   "cell_type": "markdown",
   "metadata": {},
   "source": [
    "# Act1"
   ]
  },
  {
   "cell_type": "code",
   "execution_count": 3,
   "metadata": {},
   "outputs": [],
   "source": [
    "A = np.array([[-2,2,0],[6,-1,3],[7,1,1]])\n",
    "B = np.array([[1,2,6],[2,3,-3],[-1,0,-5]])\n",
    "C = np.array([[2,-5,2],[-1,4,3],[0,6,1]])"
   ]
  },
  {
   "cell_type": "code",
   "execution_count": 4,
   "metadata": {},
   "outputs": [
    {
     "name": "stdout",
     "output_type": "stream",
     "text": [
      "A =  \n",
      " [[-2  2  0]\n",
      " [ 6 -1  3]\n",
      " [ 7  1  1]] \n",
      " B =  \n",
      " [[ 1  2  6]\n",
      " [ 2  3 -3]\n",
      " [-1  0 -5]] \n",
      " C =  \n",
      " [[ 2 -5  2]\n",
      " [-1  4  3]\n",
      " [ 0  6  1]]\n"
     ]
    }
   ],
   "source": [
    "print(\"A = \",\"\\n\",A,\"\\n\",\"B = \",\"\\n\",B,\"\\n\",\"C = \",\"\\n\",C)"
   ]
  },
  {
   "cell_type": "markdown",
   "metadata": {},
   "source": [
    "# 1.1"
   ]
  },
  {
   "cell_type": "code",
   "execution_count": 5,
   "metadata": {},
   "outputs": [
    {
     "name": "stdout",
     "output_type": "stream",
     "text": [
      "[[  2   2 -18]\n",
      " [  1   9  24]\n",
      " [  8  17  34]]\n"
     ]
    }
   ],
   "source": [
    "# A * B\n",
    "print(A@B)"
   ]
  },
  {
   "cell_type": "markdown",
   "metadata": {},
   "source": [
    "# 1.2"
   ]
  },
  {
   "cell_type": "code",
   "execution_count": 6,
   "metadata": {},
   "outputs": [
    {
     "name": "stdout",
     "output_type": "stream",
     "text": [
      "[[ 52   6  12]\n",
      " [ -7  -2   6]\n",
      " [-33  -7  -5]]\n"
     ]
    }
   ],
   "source": [
    "# B * A\n",
    "print(B@A)"
   ]
  },
  {
   "cell_type": "markdown",
   "metadata": {},
   "source": [
    "# 1.3"
   ]
  },
  {
   "cell_type": "code",
   "execution_count": 7,
   "metadata": {},
   "outputs": [
    {
     "name": "stdout",
     "output_type": "stream",
     "text": [
      "[[ 1.93103448 -0.62068966  2.68965517]\n",
      " [-3.24137931  1.82758621 -5.5862069 ]\n",
      " [-3.06896552  2.37931034 -5.31034483]]\n"
     ]
    }
   ],
   "source": [
    "# A * B**-1\n",
    "print(A@np.linalg.inv(B))"
   ]
  },
  {
   "cell_type": "markdown",
   "metadata": {},
   "source": [
    "# 1.4"
   ]
  },
  {
   "cell_type": "code",
   "execution_count": 8,
   "metadata": {},
   "outputs": [
    {
     "name": "stdout",
     "output_type": "stream",
     "text": [
      "[[ 15  -7 -88]\n",
      " [ 26  85 216]\n",
      " [ 14  71 178]]\n"
     ]
    }
   ],
   "source": [
    "# C * A * B\n",
    "print(C@A@B)"
   ]
  },
  {
   "cell_type": "markdown",
   "metadata": {},
   "source": [
    "# 1.5"
   ]
  },
  {
   "cell_type": "code",
   "execution_count": 9,
   "metadata": {},
   "outputs": [
    {
     "name": "stdout",
     "output_type": "stream",
     "text": [
      "[[-0.2789272  -0.04061303 -0.14789272]\n",
      " [ 0.20766284 -0.03295019  0.20076628]\n",
      " [ 0.02911877 -0.04521073  0.04291188]]\n"
     ]
    }
   ],
   "source": [
    "# B**-1 * C**-1\n",
    "print(np.linalg.inv(B)@np.linalg.inv(C))"
   ]
  },
  {
   "cell_type": "markdown",
   "metadata": {},
   "source": [
    "# 1.6"
   ]
  },
  {
   "cell_type": "code",
   "execution_count": 10,
   "metadata": {},
   "outputs": [
    {
     "name": "stdout",
     "output_type": "stream",
     "text": [
      "[[-21.75862069 -10.82758621  -3.17241379]\n",
      " [ 11.82758621   8.44827586   1.55172414]\n",
      " [ 16.72413793   8.51724138   3.48275862]]\n"
     ]
    }
   ],
   "source": [
    "# C * B**-1 * A\n",
    "print(C@np.linalg.inv(B)@A)"
   ]
  },
  {
   "cell_type": "markdown",
   "metadata": {},
   "source": [
    "# 1.7"
   ]
  },
  {
   "cell_type": "code",
   "execution_count": 11,
   "metadata": {},
   "outputs": [
    {
     "name": "stdout",
     "output_type": "stream",
     "text": [
      "[[ 0.02302884 -0.00112926  0.01177657]\n",
      " [-0.11643477 -0.02143577 -0.06216979]\n",
      " [-0.01564832 -0.01587014  0.02264569]]\n"
     ]
    }
   ],
   "source": [
    "# A**-1 * B**-1 * C**-1\n",
    "print(np.linalg.inv(A)@np.linalg.inv(B)@np.linalg.inv(C))"
   ]
  },
  {
   "cell_type": "markdown",
   "metadata": {},
   "source": [
    "# 1.8"
   ]
  },
  {
   "cell_type": "code",
   "execution_count": 12,
   "metadata": {},
   "outputs": [
    {
     "name": "stdout",
     "output_type": "stream",
     "text": [
      "[[-0.10846945 -0.1866102   0.08933253]\n",
      " [-0.01318814 -0.00391208  0.00100827]\n",
      " [ 0.0292196   0.00713854  0.00846945]]\n"
     ]
    }
   ],
   "source": [
    "# (A * B *C)**-1\n",
    "print(np.linalg.inv(A@B@C))"
   ]
  },
  {
   "cell_type": "markdown",
   "metadata": {},
   "source": [
    "# 1.9"
   ]
  },
  {
   "cell_type": "code",
   "execution_count": 13,
   "metadata": {},
   "outputs": [
    {
     "name": "stdout",
     "output_type": "stream",
     "text": [
      "[[ 0.23157895  0.23157895  0.05263158]\n",
      " [-0.24619883 -0.02397661  0.2748538 ]\n",
      " [-0.64152047 -0.53040936 -0.30994152]]\n"
     ]
    }
   ],
   "source": [
    "# (C * A)**-1 * B\n",
    "print(np.linalg.inv(C@A)@B)"
   ]
  },
  {
   "cell_type": "markdown",
   "metadata": {},
   "source": [
    "# 1.10"
   ]
  },
  {
   "cell_type": "code",
   "execution_count": 14,
   "metadata": {},
   "outputs": [
    {
     "name": "stdout",
     "output_type": "stream",
     "text": [
      "[[-1.38656987 -5.10707804  3.52813067]\n",
      " [ 1.02450091  4.52087114 -2.94192377]\n",
      " [ 1.29310345 -0.62068966  0.62068966]]\n"
     ]
    }
   ],
   "source": [
    "# B**-1 * A * C * A**-1\n",
    "print(np.linalg.inv(B)@A@C@np.linalg.inv(A))"
   ]
  },
  {
   "cell_type": "markdown",
   "metadata": {},
   "source": [
    "# Act2"
   ]
  },
  {
   "cell_type": "code",
   "execution_count": 15,
   "metadata": {},
   "outputs": [
    {
     "name": "stdout",
     "output_type": "stream",
     "text": [
      "[[ 3  2  4  1  5]\n",
      " [ 4 -3  8  2 -1]\n",
      " [-1 -4  2 -9  2]\n",
      " [ 5  7 -1  4  3]\n",
      " [ 2  4  7  1 -6]] \n",
      " [[ 16]\n",
      " [  8]\n",
      " [-16]\n",
      " [ 10]\n",
      " [  9]]\n"
     ]
    }
   ],
   "source": [
    "A = np.array([[3,2,4,1,5],[4,-3,8,2,-1],[-1,-4,2,-9,2],[5,7,-1,4,3],[2,4,7,1,-6]])\n",
    "B = np.array([[16],[8],[-16],[10],[9]])\n",
    "print(A,\"\\n\",B)"
   ]
  },
  {
   "cell_type": "code",
   "execution_count": 16,
   "metadata": {},
   "outputs": [
    {
     "name": "stdout",
     "output_type": "stream",
     "text": [
      "X1 =  [-2.36788381] ,X2 =  [1.37435838] ,X3 =  [2.33288614] ,X4 =  [2.33463602] ,X5 =  [1.73775082]\n"
     ]
    }
   ],
   "source": [
    "x = np.linalg.solve(A,B)\n",
    "print(\"X1 = \",x[0],\",X2 = \",x[1],\",X3 = \",x[2],\",X4 = \",x[3],\",X5 = \",x[4])"
   ]
  },
  {
   "cell_type": "markdown",
   "metadata": {},
   "source": [
    "# Act3"
   ]
  },
  {
   "cell_type": "code",
   "execution_count": 17,
   "metadata": {},
   "outputs": [
    {
     "name": "stdout",
     "output_type": "stream",
     "text": [
      "[[ 3  8  4  3  0  1]\n",
      " [ 1 -3  1  7 -5  3]\n",
      " [-2  6  1 -3  2 -4]\n",
      " [ 1  3  0 -4  3 -8]\n",
      " [ 0  4  2  5  3  3]\n",
      " [ 6  3  1 -1  2  6]] \n",
      " [[12]\n",
      " [ 4]\n",
      " [ 8]\n",
      " [-3]\n",
      " [16]\n",
      " [ 9]]\n"
     ]
    }
   ],
   "source": [
    "A = np.array([[3,8,4,3,0,1],[1,-3,1,7,-5,3],[-2,6,1,-3,2,-4],[1,3,0,-4,3,-8],[0,4,2,5,3,3],[6,3,1,-1,2,6]])\n",
    "B = np.array([[12],[4],[8],[-3],[16],[9]])\n",
    "print(A,\"\\n\",B)"
   ]
  },
  {
   "cell_type": "code",
   "execution_count": 18,
   "metadata": {},
   "outputs": [
    {
     "name": "stdout",
     "output_type": "stream",
     "text": [
      "X1 =  [1.51027703] ,X2 =  [8.55555556] ,X3 =  [-19.12511171] ,X4 =  [5.0238308] ,X5 =  [-2.15072982] ,X6 =  [0.45367888]\n"
     ]
    }
   ],
   "source": [
    "x = np.linalg.solve(A,B)\n",
    "print(\"X1 = \",x[0],\",X2 = \",x[1],\",X3 = \",x[2],\",X4 = \",x[3],\",X5 = \",x[4],\",X6 = \",x[5])"
   ]
  },
  {
   "cell_type": "markdown",
   "metadata": {},
   "source": [
    "# Act4"
   ]
  },
  {
   "cell_type": "code",
   "execution_count": 19,
   "metadata": {},
   "outputs": [
    {
     "name": "stdout",
     "output_type": "stream",
     "text": [
      "[[ 3  7  4  8  0 -1  1]\n",
      " [-1  3  0 -6 -5  3 -1]\n",
      " [ 5 -6  3 -3  2 -4  1]\n",
      " [ 1  5  0 -4 -3  5 -3]\n",
      " [ 0 -5  2  5  3  3  2]\n",
      " [-6  4 -1  6 -7  6 -5]\n",
      " [ 4 -5  5 -3  2 -6  1]] \n",
      " [[ 9]\n",
      " [-4]\n",
      " [12]\n",
      " [ 3]\n",
      " [15]\n",
      " [-9]\n",
      " [10]]\n"
     ]
    }
   ],
   "source": [
    "A = np.array([[3,7,4,8,0,-1,1],[-1,3,0,-6,-5,3,-1],[5,-6,3,-3,2,-4,1],[1,5,0,-4,-3,5,-3],[0,-5,2,5,3,3,2],[-6,4,-1,6,-7,6,-5],[4,-5,5,-3,2,-6,1]])\n",
    "B = np.array([[9],[-4],[12],[3],[15],[-9],[10]])\n",
    "print(A,\"\\n\",B)"
   ]
  },
  {
   "cell_type": "code",
   "execution_count": 20,
   "metadata": {},
   "outputs": [
    {
     "name": "stdout",
     "output_type": "stream",
     "text": [
      "X1 =  [1.7607526] ,X2 =  [-0.60134443] ,X3 =  [1.7576948] ,X4 =  [0.28707865] ,X5 =  [0.65325799] ,X6 =  [1.57664628] ,X7 =  [0.1763911]\n"
     ]
    }
   ],
   "source": [
    "x = np.linalg.solve(A,B)\n",
    "print(\"X1 = \",x[0],\",X2 = \",x[1],\",X3 = \",x[2],\",X4 = \",x[3],\",X5 = \",x[4],\",X6 = \",x[5],\",X7 = \",x[6])"
   ]
  },
  {
   "cell_type": "markdown",
   "metadata": {},
   "source": [
    "# END"
   ]
  }
 ],
 "metadata": {
  "kernelspec": {
   "display_name": "Python 3",
   "language": "python",
   "name": "python3"
  },
  "language_info": {
   "codemirror_mode": {
    "name": "ipython",
    "version": 3
   },
   "file_extension": ".py",
   "mimetype": "text/x-python",
   "name": "python",
   "nbconvert_exporter": "python",
   "pygments_lexer": "ipython3",
   "version": "3.7.4"
  }
 },
 "nbformat": 4,
 "nbformat_minor": 2
}
