{
 "cells": [
  {
   "cell_type": "markdown",
   "metadata": {},
   "source": [
    "# Example"
   ]
  },
  {
   "cell_type": "code",
   "execution_count": 1,
   "metadata": {},
   "outputs": [],
   "source": [
    "import numpy as np"
   ]
  },
  {
   "cell_type": "code",
   "execution_count": 28,
   "metadata": {},
   "outputs": [
    {
     "name": "stdout",
     "output_type": "stream",
     "text": [
      "[[ 3  2  1]\n",
      " [ 4  1  1]\n",
      " [-1  1  3]]\n"
     ]
    }
   ],
   "source": [
    "A = np.array([[3,2,1],[4,1,1],[-1,1,3]])\n",
    "print(A)"
   ]
  },
  {
   "cell_type": "code",
   "execution_count": 3,
   "metadata": {},
   "outputs": [
    {
     "name": "stdout",
     "output_type": "stream",
     "text": [
      "[[-0.13333333  0.33333333 -0.06666667]\n",
      " [ 0.86666667 -0.66666667 -0.06666667]\n",
      " [-0.33333333  0.33333333  0.33333333]]\n"
     ]
    }
   ],
   "source": [
    "n = 3\n",
    "I = np.identity(n)\n",
    "M = np.concatenate( (A,I) , axis = 1)\n",
    "for i in range(0,n):\n",
    "    pivot = M[i][i]\n",
    "    row = M[i]\n",
    "    M[i] = row/pivot\n",
    "    for j in [k for k in range(0,n) if k!=i]:\n",
    "        M[j] = M[j] - M[i] * M[j][i]\n",
    "    inverse = M[:,n:]\n",
    "print(inverse)"
   ]
  },
  {
   "cell_type": "code",
   "execution_count": 4,
   "metadata": {
    "scrolled": true
   },
   "outputs": [
    {
     "name": "stdout",
     "output_type": "stream",
     "text": [
      "[[-0.13333333  0.33333333 -0.06666667]\n",
      " [ 0.86666667 -0.66666667 -0.06666667]\n",
      " [-0.33333333  0.33333333  0.33333333]]\n"
     ]
    }
   ],
   "source": [
    "print(np.linalg.inv(A))"
   ]
  },
  {
   "cell_type": "markdown",
   "metadata": {},
   "source": [
    "# 1.1"
   ]
  },
  {
   "cell_type": "code",
   "execution_count": 5,
   "metadata": {},
   "outputs": [
    {
     "name": "stdout",
     "output_type": "stream",
     "text": [
      "[[3 4]\n",
      " [0 2]]\n"
     ]
    }
   ],
   "source": [
    "A = np.array([[3,4],[0,2]])\n",
    "print(A)"
   ]
  },
  {
   "cell_type": "code",
   "execution_count": 6,
   "metadata": {},
   "outputs": [
    {
     "name": "stdout",
     "output_type": "stream",
     "text": [
      "[[ 0.33333333 -0.66666667]\n",
      " [ 0.          0.5       ]]\n"
     ]
    }
   ],
   "source": [
    "print(np.linalg.inv(A))"
   ]
  },
  {
   "cell_type": "markdown",
   "metadata": {},
   "source": [
    "# 1.2"
   ]
  },
  {
   "cell_type": "code",
   "execution_count": 7,
   "metadata": {},
   "outputs": [
    {
     "name": "stdout",
     "output_type": "stream",
     "text": [
      "[[-3.   0.6]\n",
      " [-1.   3. ]]\n"
     ]
    }
   ],
   "source": [
    "A = np.array([[-3,0.6],[-1,3]])\n",
    "print(A)"
   ]
  },
  {
   "cell_type": "code",
   "execution_count": 8,
   "metadata": {},
   "outputs": [
    {
     "name": "stdout",
     "output_type": "stream",
     "text": [
      "[[-0.35714286  0.07142857]\n",
      " [-0.11904762  0.35714286]]\n"
     ]
    }
   ],
   "source": [
    "print(np.linalg.inv(A))"
   ]
  },
  {
   "cell_type": "markdown",
   "metadata": {},
   "source": [
    "# 1.3"
   ]
  },
  {
   "cell_type": "code",
   "execution_count": 9,
   "metadata": {},
   "outputs": [
    {
     "name": "stdout",
     "output_type": "stream",
     "text": [
      "[[ 2  0]\n",
      " [ 8 -2]]\n"
     ]
    }
   ],
   "source": [
    "A = np.array([[2,0],[8,-2]])\n",
    "print(A)"
   ]
  },
  {
   "cell_type": "code",
   "execution_count": 10,
   "metadata": {},
   "outputs": [
    {
     "name": "stdout",
     "output_type": "stream",
     "text": [
      "[[ 0.5  0. ]\n",
      " [ 2.  -0.5]]\n"
     ]
    }
   ],
   "source": [
    "print(np.linalg.inv(A))"
   ]
  },
  {
   "cell_type": "markdown",
   "metadata": {},
   "source": [
    "# 1.4"
   ]
  },
  {
   "cell_type": "code",
   "execution_count": 11,
   "metadata": {},
   "outputs": [
    {
     "name": "stdout",
     "output_type": "stream",
     "text": [
      "[[ 3 -1  2]\n",
      " [ 0  1  4]\n",
      " [ 0  0  5]]\n"
     ]
    }
   ],
   "source": [
    "A = np.array([[3,-1,2],[0,1,4],[0,0,5]])\n",
    "print(A)"
   ]
  },
  {
   "cell_type": "code",
   "execution_count": 12,
   "metadata": {},
   "outputs": [
    {
     "name": "stdout",
     "output_type": "stream",
     "text": [
      "[[ 0.33333333  0.33333333 -0.4       ]\n",
      " [ 0.          1.         -0.8       ]\n",
      " [ 0.          0.          0.2       ]]\n"
     ]
    }
   ],
   "source": [
    "print(np.linalg.inv(A))"
   ]
  },
  {
   "cell_type": "markdown",
   "metadata": {},
   "source": [
    "# 1.5"
   ]
  },
  {
   "cell_type": "code",
   "execution_count": 13,
   "metadata": {},
   "outputs": [
    {
     "name": "stdout",
     "output_type": "stream",
     "text": [
      "[[  3   0   2]\n",
      " [ -5   1   0]\n",
      " [  2 -10   5]]\n"
     ]
    }
   ],
   "source": [
    "A = np.array([[3,0,2],[-5,1,0],[2,-10,5]])\n",
    "print(A)"
   ]
  },
  {
   "cell_type": "code",
   "execution_count": 14,
   "metadata": {},
   "outputs": [
    {
     "name": "stdout",
     "output_type": "stream",
     "text": [
      "[[ 0.04504505 -0.18018018 -0.01801802]\n",
      " [ 0.22522523  0.0990991  -0.09009009]\n",
      " [ 0.43243243  0.27027027  0.02702703]]\n"
     ]
    }
   ],
   "source": [
    "print(np.linalg.inv(A))"
   ]
  },
  {
   "cell_type": "markdown",
   "metadata": {},
   "source": [
    "# 1.6"
   ]
  },
  {
   "cell_type": "code",
   "execution_count": 15,
   "metadata": {},
   "outputs": [
    {
     "name": "stdout",
     "output_type": "stream",
     "text": [
      "[[  6   0   8]\n",
      " [  0  15  -8]\n",
      " [  2 -12   5]]\n"
     ]
    }
   ],
   "source": [
    "A = np.array([[6,0,8],[0,15,-8],[2,-12,5]])\n",
    "print(A)"
   ]
  },
  {
   "cell_type": "code",
   "execution_count": 16,
   "metadata": {},
   "outputs": [
    {
     "name": "stdout",
     "output_type": "stream",
     "text": [
      "[[ 0.05737705  0.26229508  0.32786885]\n",
      " [ 0.04371585 -0.03825137 -0.13114754]\n",
      " [ 0.08196721 -0.19672131 -0.24590164]]\n"
     ]
    }
   ],
   "source": [
    "print(np.linalg.inv(A))"
   ]
  },
  {
   "cell_type": "markdown",
   "metadata": {},
   "source": [
    "# 1.7"
   ]
  },
  {
   "cell_type": "code",
   "execution_count": 17,
   "metadata": {},
   "outputs": [
    {
     "name": "stdout",
     "output_type": "stream",
     "text": [
      "[[ 3  2  4  1]\n",
      " [ 2  1 -5  0]\n",
      " [10  4 -2  8]\n",
      " [ 0  1  4  5]]\n"
     ]
    }
   ],
   "source": [
    "A = np.array([[3,2,4,1],[2,1,-5,0],[10,4,-2,8],[0,1,4,5]])\n",
    "print(A)"
   ]
  },
  {
   "cell_type": "code",
   "execution_count": 18,
   "metadata": {},
   "outputs": [
    {
     "name": "stdout",
     "output_type": "stream",
     "text": [
      "[[-0.05487805 -0.34756098  0.18597561 -0.28658537]\n",
      " [ 0.50609756  0.87195122 -0.32621951  0.42073171]\n",
      " [ 0.07926829 -0.16463415  0.00914634 -0.0304878 ]\n",
      " [-0.16463415 -0.04268293  0.05792683  0.1402439 ]]\n"
     ]
    }
   ],
   "source": [
    "print(np.linalg.inv(A))"
   ]
  },
  {
   "cell_type": "markdown",
   "metadata": {},
   "source": [
    "# 1.8"
   ]
  },
  {
   "cell_type": "code",
   "execution_count": 19,
   "metadata": {},
   "outputs": [
    {
     "name": "stdout",
     "output_type": "stream",
     "text": [
      "[[-1  0  2  6]\n",
      " [ 2  3  5  4]\n",
      " [ 8  1 -2  0]\n",
      " [ 3  8  9  7]]\n"
     ]
    }
   ],
   "source": [
    "A = np.array([[-1,0,2,6],[2,3,5,4],[8,1,-2,0],[3,8,9,7]])\n",
    "print(A)"
   ]
  },
  {
   "cell_type": "code",
   "execution_count": 20,
   "metadata": {},
   "outputs": [
    {
     "name": "stdout",
     "output_type": "stream",
     "text": [
      "[[-0.04042179  0.23901582  0.09841828 -0.10193322]\n",
      " [ 0.00702988 -0.65026362  0.02636204  0.3655536 ]\n",
      " [-0.15817223  0.63093146 -0.09314587 -0.22495606]\n",
      " [ 0.21265378 -0.17047452  0.04745167  0.05799649]]\n"
     ]
    }
   ],
   "source": [
    "print(np.linalg.inv(A))"
   ]
  },
  {
   "cell_type": "markdown",
   "metadata": {},
   "source": [
    "# 1.9"
   ]
  },
  {
   "cell_type": "code",
   "execution_count": 21,
   "metadata": {},
   "outputs": [
    {
     "name": "stdout",
     "output_type": "stream",
     "text": [
      "[[8 3 1 8 7]\n",
      " [4 7 2 1 5]\n",
      " [1 8 1 0 4]\n",
      " [0 7 2 3 6]\n",
      " [2 9 2 7 3]]\n"
     ]
    }
   ],
   "source": [
    "A = np.array([[8,3,1,8,7],[4,7,2,1,5],[1,8,1,0,4],[0,7,2,3,6],[2,9,2,7,3]])\n",
    "print(A)"
   ]
  },
  {
   "cell_type": "code",
   "execution_count": 22,
   "metadata": {},
   "outputs": [
    {
     "name": "stdout",
     "output_type": "stream",
     "text": [
      "[[ 0.04433078  0.157289    0.00170503 -0.18755328  0.00724638]\n",
      " [-0.01278772 -0.05498721  0.19181586 -0.09974425  0.06521739]\n",
      " [-0.27621483  0.71227621 -0.85677749  0.2455243   0.10869565]\n",
      " [ 0.04688832 -0.13171355 -0.03665814  0.03239557  0.0942029 ]\n",
      " [ 0.08354646 -0.10741688  0.0801364   0.18499574 -0.15942029]]\n"
     ]
    }
   ],
   "source": [
    "print(np.linalg.inv(A))"
   ]
  },
  {
   "cell_type": "markdown",
   "metadata": {},
   "source": [
    "# 1.10"
   ]
  },
  {
   "cell_type": "code",
   "execution_count": 23,
   "metadata": {},
   "outputs": [
    {
     "name": "stdout",
     "output_type": "stream",
     "text": [
      "[[-5  3  3  7  5]\n",
      " [ 4  2  0  1 -5]\n",
      " [-2  8  3  2  4]\n",
      " [ 3  5  1  8  8]\n",
      " [ 7  0  2 -2  2]]\n"
     ]
    }
   ],
   "source": [
    "A = np.array([[-5,3,3,7,5],[4,2,0,1,-5],[-2,8,3,2,4],[3,5,1,8,8],[7,0,2,-2,2]])\n",
    "print(A)"
   ]
  },
  {
   "cell_type": "code",
   "execution_count": 24,
   "metadata": {},
   "outputs": [
    {
     "name": "stdout",
     "output_type": "stream",
     "text": [
      "[[-0.03157895  0.04561404 -0.02807018  0.04561404  0.06666667]\n",
      " [-0.1         0.03333333  0.13333333  0.03333333 -0.06666667]\n",
      " [ 0.24817814  0.06032389 -0.00161943 -0.17044534  0.21538462]\n",
      " [ 0.09048583  0.08724696 -0.08623482  0.04878543 -0.03076923]\n",
      " [-0.04716599 -0.13272605  0.01363023  0.05958165  0.02051282]]\n"
     ]
    }
   ],
   "source": [
    "print(np.linalg.inv(A))"
   ]
  },
  {
   "cell_type": "markdown",
   "metadata": {},
   "source": [
    "# End"
   ]
  }
 ],
 "metadata": {
  "kernelspec": {
   "display_name": "Python 3",
   "language": "python",
   "name": "python3"
  },
  "language_info": {
   "codemirror_mode": {
    "name": "ipython",
    "version": 3
   },
   "file_extension": ".py",
   "mimetype": "text/x-python",
   "name": "python",
   "nbconvert_exporter": "python",
   "pygments_lexer": "ipython3",
   "version": "3.7.4"
  }
 },
 "nbformat": 4,
 "nbformat_minor": 2
}
