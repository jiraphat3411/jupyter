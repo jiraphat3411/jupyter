{
 "cells": [
  {
   "cell_type": "code",
   "execution_count": 1,
   "id": "05b772f3",
   "metadata": {},
   "outputs": [],
   "source": [
    "import numpy as np\n",
    "from numpy.linalg import eig"
   ]
  },
  {
   "cell_type": "markdown",
   "id": "8322fa5b",
   "metadata": {},
   "source": [
    "# Ex"
   ]
  },
  {
   "cell_type": "code",
   "execution_count": 2,
   "id": "344df87a",
   "metadata": {},
   "outputs": [
    {
     "data": {
      "text/plain": [
       "array([[0, 2],\n",
       "       [2, 3]])"
      ]
     },
     "execution_count": 2,
     "metadata": {},
     "output_type": "execute_result"
    }
   ],
   "source": [
    "a = np.array([[0,2],[2,3]])\n",
    "a"
   ]
  },
  {
   "cell_type": "code",
   "execution_count": 3,
   "id": "e1ec87b8",
   "metadata": {},
   "outputs": [
    {
     "name": "stdout",
     "output_type": "stream",
     "text": [
      "E-value [-1.  4.]\n",
      "E-vector [[-0.89442719 -0.4472136 ]\n",
      " [ 0.4472136  -0.89442719]]\n"
     ]
    }
   ],
   "source": [
    "w,v = eig(a)\n",
    "print('E-value',w)\n",
    "print('E-vector',v)"
   ]
  },
  {
   "cell_type": "markdown",
   "id": "fc3946a5",
   "metadata": {},
   "source": [
    "# Act"
   ]
  },
  {
   "cell_type": "code",
   "execution_count": 4,
   "id": "fb841b91",
   "metadata": {},
   "outputs": [
    {
     "name": "stdout",
     "output_type": "stream",
     "text": [
      "[[ 5 -1  2]\n",
      " [ 1  3  0]\n",
      " [ 2 -8  2]] \n",
      "\n",
      " [[ 3  1  6]\n",
      " [-1  1  5]\n",
      " [-2  5  4]]\n"
     ]
    }
   ],
   "source": [
    "A = np.array([[5,-1,2],[1,3,0],[2,-8,2]])\n",
    "B = np.array([[3,1,6],[-1,1,5],[-2,5,4]])\n",
    "print(A,'\\n\\n',B)"
   ]
  },
  {
   "cell_type": "code",
   "execution_count": 5,
   "id": "f1e578d7",
   "metadata": {},
   "outputs": [
    {
     "name": "stdout",
     "output_type": "stream",
     "text": [
      "E-value [0.15086295+0.j         4.92456852+1.50424564j 4.92456852-1.50424564j]\n",
      "E-vector [[ 0.3561561 +0.j          0.79686292+0.j          0.79686292-0.j        ]\n",
      " [-0.1250049 +0.j          0.25702858-0.20089392j  0.25702858+0.20089392j]\n",
      " [-0.92602732+0.j          0.09846002+0.49889183j  0.09846002-0.49889183j]]\n"
     ]
    }
   ],
   "source": [
    "w,v = eig(A)\n",
    "print('E-value',w)\n",
    "print('E-vector',v)"
   ]
  },
  {
   "cell_type": "code",
   "execution_count": 6,
   "id": "b4c4c992",
   "metadata": {},
   "outputs": [
    {
     "name": "stdout",
     "output_type": "stream",
     "text": [
      "E-value [-28.49926118  23.9902697    0.50899148]\n",
      "E-vector [[ 0.44489985 -0.93952576  0.59008953]\n",
      " [ 0.48605302 -0.24805887 -0.79640835]\n",
      " [-0.75220781 -0.23613161  0.13239373]]\n"
     ]
    }
   ],
   "source": [
    "w,v = eig(A@B)\n",
    "print('E-value',w)\n",
    "print('E-vector',v)"
   ]
  },
  {
   "cell_type": "code",
   "execution_count": 7,
   "id": "5b40f6b8",
   "metadata": {},
   "outputs": [
    {
     "name": "stdout",
     "output_type": "stream",
     "text": [
      "E-value [6.62853252+0.j         0.18573374+0.05673374j 0.18573374-0.05673374j]\n",
      "E-vector [[-0.3561561 +0.j          0.79686292+0.j          0.79686292-0.j        ]\n",
      " [ 0.1250049 +0.j          0.25702858+0.20089392j  0.25702858-0.20089392j]\n",
      " [ 0.92602732+0.j          0.09846002-0.49889183j  0.09846002+0.49889183j]]\n"
     ]
    }
   ],
   "source": [
    "w,v = eig(np.linalg.inv(A))\n",
    "print('E-value',w)\n",
    "print('E-vector',v)"
   ]
  },
  {
   "cell_type": "code",
   "execution_count": 8,
   "id": "7067a50f",
   "metadata": {},
   "outputs": [
    {
     "name": "stdout",
     "output_type": "stream",
     "text": [
      "E-value [ 23.9902697  -28.49926118   0.50899148]\n",
      "E-vector [[ 0.99182317 -0.55847928 -0.35284825]\n",
      " [ 0.10821884 -0.77158166  0.14457957]\n",
      " [ 0.06764226 -0.3045696   0.924443  ]]\n"
     ]
    }
   ],
   "source": [
    "w,v = eig(B@A)\n",
    "print('E-value',w)\n",
    "print('E-vector',v)"
   ]
  },
  {
   "cell_type": "code",
   "execution_count": 9,
   "id": "33791daa",
   "metadata": {},
   "outputs": [
    {
     "name": "stdout",
     "output_type": "stream",
     "text": [
      "E-value [ 1.96466943  0.04168357 -0.03508863]\n",
      "E-vector [[-0.59008953  0.93952576 -0.44489985]\n",
      " [ 0.79640835  0.24805887 -0.48605302]\n",
      " [-0.13239373  0.23613161  0.75220781]]\n"
     ]
    }
   ],
   "source": [
    "w,v = eig(np.linalg.inv(A@B))\n",
    "print('E-value',w)\n",
    "print('E-vector',v)"
   ]
  },
  {
   "cell_type": "markdown",
   "id": "c2a70535",
   "metadata": {},
   "source": [
    "# Act"
   ]
  },
  {
   "cell_type": "code",
   "execution_count": 10,
   "id": "8c9a351d",
   "metadata": {},
   "outputs": [
    {
     "name": "stdout",
     "output_type": "stream",
     "text": [
      "[[ 1  0  7 -8]\n",
      " [ 1  2  2 -5]\n",
      " [ 2  0  8  7]\n",
      " [ 7 -1  5  6]] \n",
      "\n",
      " [[ 2  0 -7  8]\n",
      " [-3  2  3 -5]\n",
      " [ 0  4  3  1]\n",
      " [ 7 -1  2 -6]]\n"
     ]
    }
   ],
   "source": [
    "C = np.array([[1,0,7,-8],[1,2,2,-5],[2,0,8,7],[7,-1,5,6]])\n",
    "D = np.array([[2,0,-7,8],[-3,2,3,-5],[0,4,3,1],[7,-1,2,-6]])\n",
    "print(C,'\\n\\n',D)"
   ]
  },
  {
   "cell_type": "code",
   "execution_count": 11,
   "id": "c9939bf6",
   "metadata": {},
   "outputs": [
    {
     "name": "stdout",
     "output_type": "stream",
     "text": [
      "E-value [-79.96551076   9.51054105  52.55587186  34.89909785]\n",
      "E-vector [[ 0.62014471  0.21101495  0.46561537  0.36785521]\n",
      " [ 0.37420138 -0.47845375  0.06956904 -0.04962051]\n",
      " [-0.49008908  0.6845681   0.44483918  0.73248632]\n",
      " [-0.48498098  0.50785945  0.76189277  0.57068742]]\n"
     ]
    }
   ],
   "source": [
    "w,v = eig(C@D)\n",
    "print('E-value',w)\n",
    "print('E-vector',v)"
   ]
  },
  {
   "cell_type": "code",
   "execution_count": 12,
   "id": "b9ef7e34",
   "metadata": {},
   "outputs": [
    {
     "name": "stdout",
     "output_type": "stream",
     "text": [
      "E-value [-79.96551076  52.55587186   9.51054105  34.89909785]\n",
      "E-vector [[ 0.13252761  0.66018812 -0.13873781 -0.0535578 ]\n",
      " [-0.02636826 -0.62984151 -0.93775189  0.57278051]\n",
      " [-0.07680318  0.40070041  0.29265928 -0.7918365 ]\n",
      " [ 0.98784737 -0.08300904  0.12539439 -0.20505855]]\n"
     ]
    }
   ],
   "source": [
    "w,v = eig(D@C)\n",
    "print('E-value',w)\n",
    "print('E-vector',v)"
   ]
  },
  {
   "cell_type": "code",
   "execution_count": 13,
   "id": "342590e3",
   "metadata": {},
   "outputs": [
    {
     "name": "stdout",
     "output_type": "stream",
     "text": [
      "E-value [181.29722901+0.j           5.50006316+0.j\n",
      " -42.89864608+7.82699212j -42.89864608-7.82699212j]\n",
      "E-vector [[ 0.05852316+0.j          0.16940557+0.j         -0.73155059+0.j\n",
      "  -0.73155059-0.j        ]\n",
      " [-0.11865042+0.j          0.98470963+0.j         -0.33403282+0.23580247j\n",
      "  -0.33403282-0.23580247j]\n",
      " [ 0.78936016+0.j         -0.01183462+0.j          0.22530436-0.20162858j\n",
      "   0.22530436+0.20162858j]\n",
      " [ 0.59950618+0.j         -0.03884129+0.j          0.16011172+0.42497189j\n",
      "   0.16011172-0.42497189j]]\n"
     ]
    }
   ],
   "source": [
    "w,v = eig(C@C)\n",
    "print('E-value',w)\n",
    "print('E-vector',v)"
   ]
  },
  {
   "cell_type": "code",
   "execution_count": 14,
   "id": "4fa5eb61",
   "metadata": {},
   "outputs": [
    {
     "name": "stdout",
     "output_type": "stream",
     "text": [
      "E-value [ 0.10514649 -0.01250539  0.01902737  0.02865404]\n",
      "E-vector [[-0.13873781 -0.13252761 -0.66018812 -0.0535578 ]\n",
      " [-0.93775189  0.02636826  0.62984151  0.57278051]\n",
      " [ 0.29265928  0.07680318 -0.40070041 -0.7918365 ]\n",
      " [ 0.12539439 -0.98784737  0.08300904 -0.20505855]]\n"
     ]
    }
   ],
   "source": [
    "w,v = eig(np.linalg.inv(C)@np.linalg.inv(D))\n",
    "print('E-value',w)\n",
    "print('E-vector',v)"
   ]
  },
  {
   "cell_type": "code",
   "execution_count": 15,
   "id": "db445287",
   "metadata": {},
   "outputs": [
    {
     "name": "stdout",
     "output_type": "stream",
     "text": [
      "E-value [-0.05540662+0.08724437j -0.05540662-0.08724437j  0.00786107+0.j\n",
      "  0.01160562+0.j        ]\n",
      "E-vector [[-0.21664553+0.28795393j -0.21664553-0.28795393j  0.54496078+0.j\n",
      "   0.65115849+0.j        ]\n",
      " [ 0.34332938+0.41185589j  0.34332938-0.41185589j -0.2056771 +0.j\n",
      "  -0.6106298 +0.j        ]\n",
      " [-0.6247755 +0.j         -0.6247755 -0.j          0.11398236+0.j\n",
      "  -0.34207199+0.j        ]\n",
      " [-0.4349638 +0.05575815j -0.4349638 -0.05575815j -0.80481221+0.j\n",
      "   0.29344611+0.j        ]]\n"
     ]
    }
   ],
   "source": [
    "w,v = eig(np.linalg.inv(D@D))\n",
    "print('E-value',w)\n",
    "print('E-vector',v)"
   ]
  },
  {
   "cell_type": "markdown",
   "id": "7e357802",
   "metadata": {},
   "source": [
    "# End"
   ]
  }
 ],
 "metadata": {
  "kernelspec": {
   "display_name": "Python 3 (ipykernel)",
   "language": "python",
   "name": "python3"
  },
  "language_info": {
   "codemirror_mode": {
    "name": "ipython",
    "version": 3
   },
   "file_extension": ".py",
   "mimetype": "text/x-python",
   "name": "python",
   "nbconvert_exporter": "python",
   "pygments_lexer": "ipython3",
   "version": "3.11.5"
  }
 },
 "nbformat": 4,
 "nbformat_minor": 5
}
