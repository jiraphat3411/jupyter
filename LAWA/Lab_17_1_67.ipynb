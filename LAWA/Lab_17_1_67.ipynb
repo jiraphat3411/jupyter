{
 "cells": [
  {
   "cell_type": "code",
   "execution_count": 1,
   "metadata": {},
   "outputs": [],
   "source": [
    "import numpy as np"
   ]
  },
  {
   "cell_type": "markdown",
   "metadata": {},
   "source": [
    "# Act1"
   ]
  },
  {
   "cell_type": "code",
   "execution_count": 2,
   "metadata": {},
   "outputs": [],
   "source": [
    "A = np.array([[1,2,0,-2],[3,4,-5,1],[1,1,2,0],[2,1,0,-1]])\n",
    "B = np.array([[-1,2,1,-2],[1,3,-5,1],[0,1,-2,2],[2,2,4,-1]])\n",
    "C = np.array([[1,0,2,0],[-3,-4,5,1],[1,4,3,-1],[-2,-1,3,-2]])\n",
    "print(A,\"\\n\\n\",B,\"\\n\\n\",C)"
   ]
  },
  {
   "cell_type": "markdown",
   "metadata": {},
   "source": [
    "# 1.1"
   ]
  },
  {
   "cell_type": "code",
   "execution_count": 3,
   "metadata": {},
   "outputs": [
    {
     "name": "stdout",
     "output_type": "stream",
     "text": [
      "[[ -2  -2   5   5]\n",
      " [-15 -33   5   6]\n",
      " [ -9 -14   5  -1]\n",
      " [  2   9  23   0]]\n"
     ]
    }
   ],
   "source": [
    "# B * C\n",
    "print(B@C)\n",
    "#np.matmul(B,C)"
   ]
  },
  {
   "cell_type": "markdown",
   "metadata": {},
   "source": [
    "# 1.2"
   ]
  },
  {
   "cell_type": "code",
   "execution_count": 4,
   "metadata": {},
   "outputs": [
    {
     "name": "stdout",
     "output_type": "stream",
     "text": [
      "[[-1.66666667 -0.66666667  1.33333333 -1.33333333]\n",
      " [ 1.33333333  1.33333333  0.73333333  0.86666667]\n",
      " [ 0.66666667  1.66666667  0.46666667 -0.26666667]\n",
      " [ 0.          1.          0.4         0.2       ]]\n"
     ]
    }
   ],
   "source": [
    "# A**-1 * C\n",
    "print(np.linalg.inv(A)@C)\n",
    "#np.matmul(np.linalg.inv(A),C)"
   ]
  },
  {
   "cell_type": "markdown",
   "metadata": {},
   "source": [
    "# 1.3"
   ]
  },
  {
   "cell_type": "code",
   "execution_count": 5,
   "metadata": {},
   "outputs": [
    {
     "name": "stdout",
     "output_type": "stream",
     "text": [
      "[[ 0.27777778  0.44444444  6.05555556 -2.05555556]\n",
      " [-1.75925926 -3.81481481 -2.35185185  2.01851852]\n",
      " [-0.82407407  1.48148148 -0.56481481 -0.60185185]\n",
      " [-1.11111111  1.22222222  5.77777778 -3.77777778]]\n"
     ]
    }
   ],
   "source": [
    "# A * C**-1 * B\n",
    "print(A@np.linalg.inv(C)@B)\n",
    "#np.matmul(np.matmul(A,np.linalg.inv(C)),B)"
   ]
  },
  {
   "cell_type": "markdown",
   "metadata": {},
   "source": [
    "# 1.4"
   ]
  },
  {
   "cell_type": "code",
   "execution_count": 6,
   "metadata": {},
   "outputs": [
    {
     "name": "stdout",
     "output_type": "stream",
     "text": [
      "[[ 0.12326389 -0.07638889 -1.59895833  0.67013889]\n",
      " [-0.11352238 -0.02276235  0.82783565 -0.38869599]\n",
      " [ 0.12065972  0.05902778 -0.18489583  0.05034722]\n",
      " [ 0.08323688  0.30131173 -0.12355324 -0.33777006]]\n"
     ]
    }
   ],
   "source": [
    "# (B * C)**-1 * A\n",
    "print(np.linalg.inv(B@C)@A)"
   ]
  },
  {
   "cell_type": "markdown",
   "metadata": {},
   "source": [
    "# 1.5"
   ]
  },
  {
   "cell_type": "code",
   "execution_count": 7,
   "metadata": {},
   "outputs": [
    {
     "name": "stdout",
     "output_type": "stream",
     "text": [
      "[[ 0.18836806 -0.00850694  0.01909722 -0.20815972]\n",
      " [-0.58680556  0.06736111 -0.07638889  0.86597222]\n",
      " [ 0.046875   -0.034375   -0.05208333  0.26770833]\n",
      " [-0.41695602  0.01811343 -0.13136574  0.6541088 ]]\n"
     ]
    }
   ],
   "source": [
    "# (B * C**-1)**-1 * (A * C)**-1\n",
    "print(np.linalg.inv(B@np.linalg.inv(C))@np.linalg.inv(A@C))"
   ]
  },
  {
   "cell_type": "markdown",
   "metadata": {},
   "source": [
    "# 1.6"
   ]
  },
  {
   "cell_type": "code",
   "execution_count": 8,
   "metadata": {},
   "outputs": [
    {
     "name": "stdout",
     "output_type": "stream",
     "text": [
      "[[-0.71193416  0.35390947 -0.64609053  0.16049383]\n",
      " [ 0.64320988 -0.23691358  0.51975309 -0.26592593]\n",
      " [ 0.17325103 -0.00572016  0.0909465  -0.13061728]\n",
      " [-0.26831276  0.07893004  0.08559671  0.14765432]]\n"
     ]
    }
   ],
   "source": [
    "# (A * B**-1 * C * A)**-1\n",
    "print(np.linalg.inv(A@np.linalg.inv(B)@C@A))"
   ]
  },
  {
   "cell_type": "markdown",
   "metadata": {},
   "source": [
    "# Act2"
   ]
  },
  {
   "cell_type": "code",
   "execution_count": 9,
   "metadata": {},
   "outputs": [
    {
     "name": "stdout",
     "output_type": "stream",
     "text": [
      "[[ 5.3  0.8  1.4]\n",
      " [ 6.8 -2.5  3.4]\n",
      " [-1.8  3.9 -5.7]] \n",
      "\n",
      " [[ 4.5]\n",
      " [ 5.4]\n",
      " [-8.9]]\n"
     ]
    }
   ],
   "source": [
    "A = np.array([[5.3,0.8,1.4],[6.8,-2.5,3.4],[-1.8,3.9,-5.7]])\n",
    "B = np.array([[4.5],[5.4],[-8.9]])\n",
    "print(A,\"\\n\\n\",B)"
   ]
  },
  {
   "cell_type": "code",
   "execution_count": 10,
   "metadata": {},
   "outputs": [
    {
     "name": "stdout",
     "output_type": "stream",
     "text": [
      "x1 =  [0.0515381]  x2 =  [1.17394311]  x3 =  [2.34835255]\n"
     ]
    }
   ],
   "source": [
    "x = np.linalg.solve(A,B)\n",
    "print(\"x1 = \",x[0],\" x2 = \",x[1],\" x3 = \",x[2])"
   ]
  },
  {
   "cell_type": "markdown",
   "metadata": {},
   "source": [
    "# Act3"
   ]
  },
  {
   "cell_type": "code",
   "execution_count": 17,
   "metadata": {},
   "outputs": [
    {
     "name": "stdout",
     "output_type": "stream",
     "text": [
      "[[ 2.6  4.7 -3.1  1.2]\n",
      " [ 0.4  0.5  2.4 -3.6]\n",
      " [ 1.6 -3.7  1.4 -0.9]\n",
      " [-2.9  1.3 -2.4  1.8]] \n",
      "\n",
      " [[ 6.5]\n",
      " [ 4.8]\n",
      " [ 5.3]\n",
      " [-2.9]]\n"
     ]
    }
   ],
   "source": [
    "A = np.array([[2.6,4.7,-3.1,1.2],[0.4,0.5,2.4,-3.6],[1.6,-3.7,1.4,-0.9],[-2.9,1.3,-2.4,1.8]])\n",
    "B = np.array([[6.5],[4.8],[5.3],[-2.9]])\n",
    "print(A,\"\\n\\n\",B)"
   ]
  },
  {
   "cell_type": "code",
   "execution_count": 18,
   "metadata": {},
   "outputs": [
    {
     "name": "stdout",
     "output_type": "stream",
     "text": [
      "x1 =  [1.50770845]  x2 =  [-1.51127613]  x3 =  [-4.92774235]  x4 =  [-4.6608712]\n"
     ]
    }
   ],
   "source": [
    "x = np.linalg.solve(A,B)\n",
    "print(\"x1 = \",x[0],\" x2 = \",x[1],\" x3 = \",x[2],\" x4 = \",x[3])"
   ]
  },
  {
   "cell_type": "markdown",
   "metadata": {},
   "source": [
    "# Act4"
   ]
  },
  {
   "cell_type": "code",
   "execution_count": 13,
   "metadata": {},
   "outputs": [
    {
     "name": "stdout",
     "output_type": "stream",
     "text": [
      "[[ 3.6  4.7  0.  -1.8  2.7]\n",
      " [ 4.4  0.   2.4 -3.6  1.2]\n",
      " [ 0.6 -5.2  1.4  0.  -4.5]\n",
      " [ 0.   1.6 -2.4  1.8 -2.4]\n",
      " [-2.8  3.7  5.4 -0.9  3.7]] \n",
      "\n",
      " [[ 5.2]\n",
      " [ 4.3]\n",
      " [-3.8]\n",
      " [ 1.5]\n",
      " [ 7.2]]\n"
     ]
    }
   ],
   "source": [
    "A = np.array([[3.6,4.7,0,-1.8,2.7],[4.4,0,2.4,-3.6,1.2],[0.6,-5.2,1.4,0,-4.5],[0,1.6,-2.4,1.8,-2.4],[-2.8,3.7,5.4,-0.9,3.7]])\n",
    "B = np.array([[5.2],[4.3],[-3.8],[1.5],[7.2]])\n",
    "print(A,\"\\n\\n\",B)"
   ]
  },
  {
   "cell_type": "code",
   "execution_count": 14,
   "metadata": {},
   "outputs": [
    {
     "name": "stdout",
     "output_type": "stream",
     "text": [
      "x1 =  [-2.88202092]  x2 =  [2.44013242]  x3 =  [-1.04492823]  x4 =  [-6.30840739]  x5 =  [-2.68462237]\n"
     ]
    }
   ],
   "source": [
    "x = np.linalg.solve(A,B)\n",
    "print(\"x1 = \",x[0],\" x2 = \",x[1],\" x3 = \",x[2],\" x4 = \",x[3],\" x5 = \",x[4])"
   ]
  },
  {
   "cell_type": "markdown",
   "metadata": {},
   "source": [
    "# End"
   ]
  }
 ],
 "metadata": {
  "kernelspec": {
   "display_name": "Python 3",
   "language": "python",
   "name": "python3"
  },
  "language_info": {
   "codemirror_mode": {
    "name": "ipython",
    "version": 3
   },
   "file_extension": ".py",
   "mimetype": "text/x-python",
   "name": "python",
   "nbconvert_exporter": "python",
   "pygments_lexer": "ipython3",
   "version": "3.7.4"
  }
 },
 "nbformat": 4,
 "nbformat_minor": 2
}
