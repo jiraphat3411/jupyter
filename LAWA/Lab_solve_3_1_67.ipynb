{
 "cells": [
  {
   "cell_type": "code",
   "execution_count": 1,
   "metadata": {},
   "outputs": [],
   "source": [
    "import numpy as np"
   ]
  },
  {
   "cell_type": "markdown",
   "metadata": {},
   "source": [
    "# TEST"
   ]
  },
  {
   "cell_type": "code",
   "execution_count": 2,
   "metadata": {},
   "outputs": [],
   "source": [
    "A = np.array([[1,1],[5,-3]])\n",
    "B = np.array([[1],[4]])"
   ]
  },
  {
   "cell_type": "code",
   "execution_count": 3,
   "metadata": {},
   "outputs": [],
   "source": [
    "x = np.linalg.solve(A,B)"
   ]
  },
  {
   "cell_type": "code",
   "execution_count": 4,
   "metadata": {},
   "outputs": [
    {
     "name": "stdout",
     "output_type": "stream",
     "text": [
      "X =  [0.875] ,Y =  [0.125]\n"
     ]
    }
   ],
   "source": [
    "x = np.linalg.solve(A,B)\n",
    "print(\"X = \",x[0],\",Y = \",x[1])"
   ]
  },
  {
   "cell_type": "markdown",
   "metadata": {},
   "source": [
    "# Ex"
   ]
  },
  {
   "cell_type": "code",
   "execution_count": 5,
   "metadata": {},
   "outputs": [],
   "source": [
    "A = np.array([[1,2],[3,4]])"
   ]
  },
  {
   "cell_type": "code",
   "execution_count": 6,
   "metadata": {},
   "outputs": [
    {
     "data": {
      "text/plain": [
       "array([[1, 2],\n",
       "       [3, 4]])"
      ]
     },
     "execution_count": 6,
     "metadata": {},
     "output_type": "execute_result"
    }
   ],
   "source": [
    "A"
   ]
  },
  {
   "cell_type": "code",
   "execution_count": 7,
   "metadata": {},
   "outputs": [],
   "source": [
    "B = np.array([[1,2],[3,4]])"
   ]
  },
  {
   "cell_type": "code",
   "execution_count": 8,
   "metadata": {},
   "outputs": [
    {
     "data": {
      "text/plain": [
       "array([[1, 2],\n",
       "       [3, 4]])"
      ]
     },
     "execution_count": 8,
     "metadata": {},
     "output_type": "execute_result"
    }
   ],
   "source": [
    "B"
   ]
  },
  {
   "cell_type": "code",
   "execution_count": 9,
   "metadata": {},
   "outputs": [
    {
     "data": {
      "text/plain": [
       "array([[ 7, 10],\n",
       "       [15, 22]])"
      ]
     },
     "execution_count": 9,
     "metadata": {},
     "output_type": "execute_result"
    }
   ],
   "source": [
    "np.matmul(A,B)"
   ]
  },
  {
   "cell_type": "markdown",
   "metadata": {},
   "source": [
    "# 1"
   ]
  },
  {
   "cell_type": "code",
   "execution_count": 10,
   "metadata": {},
   "outputs": [
    {
     "name": "stdout",
     "output_type": "stream",
     "text": [
      "[[ 3  1]\n",
      " [ 2 -1]] \n",
      " [[4]\n",
      " [3]]\n"
     ]
    }
   ],
   "source": [
    "A = np.array([[3,1],[2,-1]])\n",
    "B = np.array([[4],[3]])\n",
    "print(A,\"\\n\",B)"
   ]
  },
  {
   "cell_type": "code",
   "execution_count": 11,
   "metadata": {},
   "outputs": [
    {
     "name": "stdout",
     "output_type": "stream",
     "text": [
      "X =  [1.4] ,Y =  [-0.2]\n"
     ]
    }
   ],
   "source": [
    "x = np.linalg.solve(A,B)\n",
    "print(\"X = \",x[0],\",Y = \",x[1])"
   ]
  },
  {
   "cell_type": "markdown",
   "metadata": {},
   "source": [
    "# 2"
   ]
  },
  {
   "cell_type": "code",
   "execution_count": 12,
   "metadata": {},
   "outputs": [
    {
     "name": "stdout",
     "output_type": "stream",
     "text": [
      "[[-1  3]\n",
      " [ 1 -5]] \n",
      " [[ 2]\n",
      " [-5]]\n"
     ]
    }
   ],
   "source": [
    "A = np.array([[-1,3],[1,-5]])\n",
    "B = np.array([[2],[-5]])\n",
    "print(A,\"\\n\",B)"
   ]
  },
  {
   "cell_type": "code",
   "execution_count": 13,
   "metadata": {},
   "outputs": [
    {
     "name": "stdout",
     "output_type": "stream",
     "text": [
      "X =  [2.5] ,Y =  [1.5]\n"
     ]
    }
   ],
   "source": [
    "x = np.linalg.solve(A,B)\n",
    "print(\"X = \",x[0],\",Y = \",x[1])"
   ]
  },
  {
   "cell_type": "markdown",
   "metadata": {},
   "source": [
    "# 3"
   ]
  },
  {
   "cell_type": "code",
   "execution_count": 14,
   "metadata": {},
   "outputs": [
    {
     "name": "stdout",
     "output_type": "stream",
     "text": [
      "[[ 1  3 -4]\n",
      " [ 1 -1 -2]\n",
      " [ 2  5  1]] \n",
      " [[ 2]\n",
      " [-5]\n",
      " [ 5]]\n"
     ]
    }
   ],
   "source": [
    "A = np.array([[1,3,-4],[1,-1,-2],[2,5,1]])\n",
    "B = np.array([[2],[-5],[5]])\n",
    "print(A,\"\\n\",B)"
   ]
  },
  {
   "cell_type": "code",
   "execution_count": 15,
   "metadata": {},
   "outputs": [
    {
     "name": "stdout",
     "output_type": "stream",
     "text": [
      "X =  [-2.44117647] ,Y =  [1.91176471] ,Z =  [0.32352941]\n"
     ]
    }
   ],
   "source": [
    "x = np.linalg.solve(A,B)\n",
    "print(\"X = \",x[0],\",Y = \",x[1],\",Z = \",x[2])"
   ]
  },
  {
   "cell_type": "markdown",
   "metadata": {},
   "source": [
    "# 4"
   ]
  },
  {
   "cell_type": "code",
   "execution_count": 16,
   "metadata": {},
   "outputs": [
    {
     "name": "stdout",
     "output_type": "stream",
     "text": [
      "[[ 2  2  4]\n",
      " [-1  4 -2]\n",
      " [ 5  6  3]] \n",
      " [[ 6]\n",
      " [-3]\n",
      " [ 1]]\n"
     ]
    }
   ],
   "source": [
    "A = np.array([[2,2,4],[-1,4,-2],[5,6,3]])\n",
    "B = np.array([[6],[-3],[1]])\n",
    "print(A,\"\\n\",B)"
   ]
  },
  {
   "cell_type": "code",
   "execution_count": 17,
   "metadata": {},
   "outputs": [
    {
     "name": "stdout",
     "output_type": "stream",
     "text": [
      "X =  [-1.] ,Y =  [0.] ,Z =  [2.]\n"
     ]
    }
   ],
   "source": [
    "x = np.linalg.solve(A,B)\n",
    "print(\"X = \",x[0],\",Y = \",x[1],\",Z = \",x[2])"
   ]
  },
  {
   "cell_type": "markdown",
   "metadata": {},
   "source": [
    "# 5"
   ]
  },
  {
   "cell_type": "code",
   "execution_count": 18,
   "metadata": {},
   "outputs": [
    {
     "name": "stdout",
     "output_type": "stream",
     "text": [
      "[[-3  6  3]\n",
      " [ 1  3  2]\n",
      " [ 2 -5  1]] \n",
      " [[ 7]\n",
      " [ 6]\n",
      " [-4]]\n"
     ]
    }
   ],
   "source": [
    "A = np.array([[-3,6,3],[1,3,2],[2,-5,1]])\n",
    "B = np.array([[7],[6],[-4]])\n",
    "print(A,\"\\n\",B)"
   ]
  },
  {
   "cell_type": "code",
   "execution_count": 19,
   "metadata": {},
   "outputs": [
    {
     "name": "stdout",
     "output_type": "stream",
     "text": [
      "X =  [0.87037037] ,Y =  [1.27777778] ,Z =  [0.64814815]\n"
     ]
    }
   ],
   "source": [
    "x = np.linalg.solve(A,B)\n",
    "print(\"X = \",x[0],\",Y = \",x[1],\",Z = \",x[2])"
   ]
  },
  {
   "cell_type": "markdown",
   "metadata": {},
   "source": [
    "# 6"
   ]
  },
  {
   "cell_type": "code",
   "execution_count": 20,
   "metadata": {},
   "outputs": [
    {
     "name": "stdout",
     "output_type": "stream",
     "text": [
      "[[-1  6  5  1]\n",
      " [ 1  1  1 -1]\n",
      " [ 2 -4  3  2]\n",
      " [ 3 -1  1  3]] \n",
      " [[ 7]\n",
      " [ 6]\n",
      " [-4]\n",
      " [ 8]]\n"
     ]
    }
   ],
   "source": [
    "A = np.array([[-1,6,5,1],[1,1,1,-1],[2,-4,3,2],[3,-1,1,3]])\n",
    "B = np.array([[7],[6],[-4],[8]])\n",
    "print(A,\"\\n\",B)"
   ]
  },
  {
   "cell_type": "code",
   "execution_count": 21,
   "metadata": {},
   "outputs": [
    {
     "name": "stdout",
     "output_type": "stream",
     "text": [
      "X =  [3.94495413] ,Y =  [2.37614679] ,Z =  [-0.60550459] ,W =  [-0.28440367]\n"
     ]
    }
   ],
   "source": [
    "x = np.linalg.solve(A,B)\n",
    "print(\"X = \",x[0],\",Y = \",x[1],\",Z = \",x[2],\",W = \",x[3])"
   ]
  },
  {
   "cell_type": "markdown",
   "metadata": {},
   "source": [
    "# 7"
   ]
  },
  {
   "cell_type": "code",
   "execution_count": 22,
   "metadata": {},
   "outputs": [
    {
     "name": "stdout",
     "output_type": "stream",
     "text": [
      "[[ 4  2  3  2]\n",
      " [ 1  2 -1 -1]\n",
      " [ 1 -1  3  2]\n",
      " [ 3  1 -2  1]] \n",
      " [[8]\n",
      " [5]\n",
      " [3]\n",
      " [7]]\n"
     ]
    }
   ],
   "source": [
    "A = np.array([[4,2,3,2],[1,2,-1,-1],[1,-1,3,2],[3,1,-2,1]])\n",
    "B = np.array([[8],[5],[3],[7]])\n",
    "print(A,\"\\n\",B)"
   ]
  },
  {
   "cell_type": "code",
   "execution_count": 23,
   "metadata": {},
   "outputs": [
    {
     "name": "stdout",
     "output_type": "stream",
     "text": [
      "X =  [31.] ,Y =  [-29.33333333] ,Z =  [8.] ,W =  [-40.66666667]\n"
     ]
    }
   ],
   "source": [
    "x = np.linalg.solve(A,B)\n",
    "print(\"X = \",x[0],\",Y = \",x[1],\",Z = \",x[2],\",W = \",x[3])"
   ]
  },
  {
   "cell_type": "markdown",
   "metadata": {},
   "source": [
    "# 8"
   ]
  },
  {
   "cell_type": "code",
   "execution_count": 24,
   "metadata": {},
   "outputs": [
    {
     "name": "stdout",
     "output_type": "stream",
     "text": [
      "[[ 1  2 -3 -1]\n",
      " [ 3  1  3  1]\n",
      " [-1  3  1  3]\n",
      " [ 5  6  5 -4]] \n",
      " [[-5]\n",
      " [ 3]\n",
      " [ 2]\n",
      " [-6]]\n"
     ]
    }
   ],
   "source": [
    "A = np.array([[1,2,-3,-1],[3,1,3,1],[-1,3,1,3],[5,6,5,-4]])\n",
    "B = np.array([[-5],[3],[2],[-6]])\n",
    "print(A,\"\\n\",B)"
   ]
  },
  {
   "cell_type": "code",
   "execution_count": 25,
   "metadata": {},
   "outputs": [
    {
     "name": "stdout",
     "output_type": "stream",
     "text": [
      "X =  [0.12559242] ,Y =  [-0.83412322] ,Z =  [0.71800948] ,W =  [1.30331754]\n"
     ]
    }
   ],
   "source": [
    "x = np.linalg.solve(A,B)\n",
    "print(\"X = \",x[0],\",Y = \",x[1],\",Z = \",x[2],\",W = \",x[3])"
   ]
  },
  {
   "cell_type": "markdown",
   "metadata": {},
   "source": [
    "# 9"
   ]
  },
  {
   "cell_type": "code",
   "execution_count": 26,
   "metadata": {},
   "outputs": [
    {
     "name": "stdout",
     "output_type": "stream",
     "text": [
      "[[ 1  2 -3 -4  3]\n",
      " [ 3  1 -4  1  4]\n",
      " [ 1  9  1  5  8]\n",
      " [ 2 -1 -2  1  1]\n",
      " [ 4  0  5  7 -1]] \n",
      " [[5]\n",
      " [7]\n",
      " [6]\n",
      " [9]\n",
      " [4]]\n"
     ]
    }
   ],
   "source": [
    "A = np.array([[1,2,-3,-4,3],[3,1,-4,1,4],[1,9,1,5,8],[2,-1,-2,1,1],[4,0,5,7,-1]])\n",
    "B = np.array([[5],[7],[6],[9],[4]])\n",
    "print(A,\"\\n\",B)"
   ]
  },
  {
   "cell_type": "code",
   "execution_count": 27,
   "metadata": {},
   "outputs": [
    {
     "name": "stdout",
     "output_type": "stream",
     "text": [
      "X1 =  [-13.63414634] ,X2 =  [-63.51219512] ,X3 =  [45.29268293] ,X4 =  [-13.07317073] ,X5 =  [76.41463415]\n"
     ]
    }
   ],
   "source": [
    "x = np.linalg.solve(A,B)\n",
    "print(\"X1 = \",x[0],\",X2 = \",x[1],\",X3 = \",x[2],\",X4 = \",x[3],\",X5 = \",x[4])"
   ]
  },
  {
   "cell_type": "markdown",
   "metadata": {},
   "source": [
    "# 10"
   ]
  },
  {
   "cell_type": "code",
   "execution_count": 28,
   "metadata": {},
   "outputs": [
    {
     "name": "stdout",
     "output_type": "stream",
     "text": [
      "[[ 1  3  0  4 -3]\n",
      " [ 3  2 -4  0  2]\n",
      " [-1  3  2  3  2]\n",
      " [ 2 -1 -2  4  3]\n",
      " [ 1 -1  5  2 -3]] \n",
      " [[ 4]\n",
      " [ 2]\n",
      " [ 3]\n",
      " [ 6]\n",
      " [10]]\n"
     ]
    }
   ],
   "source": [
    "A = np.array([[1,3,0,4,-3],[3,2,-4,0,2],[-1,3,2,3,2],[2,-1,-2,4,3],[1,-1,5,2,-3]])\n",
    "B = np.array([[4],[2],[3],[6],[10]])\n",
    "print(A,\"\\n\",B)"
   ]
  },
  {
   "cell_type": "code",
   "execution_count": 29,
   "metadata": {},
   "outputs": [
    {
     "name": "stdout",
     "output_type": "stream",
     "text": [
      "X1 =  [2.3910522] ,X2 =  [-0.10107705] ,X3 =  [1.41176471] ,X4 =  [0.73156587] ,X5 =  [0.33802817]\n"
     ]
    }
   ],
   "source": [
    "x = np.linalg.solve(A,B)\n",
    "print(\"X1 = \",x[0],\",X2 = \",x[1],\",X3 = \",x[2],\",X4 = \",x[3],\",X5 = \",x[4])"
   ]
  },
  {
   "cell_type": "markdown",
   "metadata": {},
   "source": [
    "# End"
   ]
  }
 ],
 "metadata": {
  "kernelspec": {
   "display_name": "Python 3",
   "language": "python",
   "name": "python3"
  },
  "language_info": {
   "codemirror_mode": {
    "name": "ipython",
    "version": 3
   },
   "file_extension": ".py",
   "mimetype": "text/x-python",
   "name": "python",
   "nbconvert_exporter": "python",
   "pygments_lexer": "ipython3",
   "version": "3.7.4"
  }
 },
 "nbformat": 4,
 "nbformat_minor": 2
}
