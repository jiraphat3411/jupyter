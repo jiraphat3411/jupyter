{
 "cells": [
  {
   "cell_type": "code",
   "execution_count": 1,
   "id": "ffc10559",
   "metadata": {},
   "outputs": [],
   "source": [
    "import numpy as np"
   ]
  },
  {
   "cell_type": "markdown",
   "id": "bef40b87",
   "metadata": {},
   "source": [
    "# ex"
   ]
  },
  {
   "cell_type": "code",
   "execution_count": 55,
   "id": "f99b0cce",
   "metadata": {},
   "outputs": [
    {
     "name": "stdout",
     "output_type": "stream",
     "text": [
      "[1 2 3] [5 6 2]\n"
     ]
    }
   ],
   "source": [
    "u = np.array([1,2,3])\n",
    "v = np.array([5,6,2])\n",
    "print(u,v)"
   ]
  },
  {
   "cell_type": "code",
   "execution_count": 56,
   "id": "be16a1d0",
   "metadata": {},
   "outputs": [],
   "source": [
    "v_norm = np.sqrt(sum(v**2))"
   ]
  },
  {
   "cell_type": "code",
   "execution_count": 57,
   "id": "7317f83f",
   "metadata": {},
   "outputs": [],
   "source": [
    "proj_of_u_on_v = (np.dot(u,v)/v_norm**2)*v"
   ]
  },
  {
   "cell_type": "code",
   "execution_count": 58,
   "id": "3b1eac90",
   "metadata": {},
   "outputs": [
    {
     "name": "stdout",
     "output_type": "stream",
     "text": [
      "projection of vector u on verter v is :  [1.76923077 2.12307692 0.70769231]\n"
     ]
    }
   ],
   "source": [
    "print(\"projection of vector u on verter v is : \",proj_of_u_on_v)"
   ]
  },
  {
   "cell_type": "markdown",
   "id": "1464ddb9",
   "metadata": {},
   "source": [
    "# ex"
   ]
  },
  {
   "cell_type": "code",
   "execution_count": 6,
   "id": "94e4df43",
   "metadata": {},
   "outputs": [],
   "source": [
    "def projectuv(u,v) :\n",
    "    v_norm = np.sqrt(sum(v**2))\n",
    "    proj_of_u_on_v = (np.dot(u,v)/v_norm**2)*v\n",
    "    return proj_of_u_on_v"
   ]
  },
  {
   "cell_type": "code",
   "execution_count": 7,
   "id": "c7cd8a9a",
   "metadata": {},
   "outputs": [],
   "source": [
    "v1 = np.array([1,2,3])\n",
    "v2 = np.array([0,6,2])\n",
    "v3 = np.array([-1,3,2])"
   ]
  },
  {
   "cell_type": "code",
   "execution_count": 8,
   "id": "90ef9475",
   "metadata": {},
   "outputs": [
    {
     "name": "stdout",
     "output_type": "stream",
     "text": [
      "[1 2 3]\n"
     ]
    }
   ],
   "source": [
    "u1 = v1\n",
    "print(u1)"
   ]
  },
  {
   "cell_type": "code",
   "execution_count": 9,
   "id": "209cb57f",
   "metadata": {},
   "outputs": [
    {
     "name": "stdout",
     "output_type": "stream",
     "text": [
      "[-1.28571429  3.42857143 -1.85714286]\n"
     ]
    }
   ],
   "source": [
    "u2 = v2 - projectuv(v2,u1)\n",
    "print(u2)"
   ]
  },
  {
   "cell_type": "code",
   "execution_count": 10,
   "id": "b31ee983",
   "metadata": {},
   "outputs": [
    {
     "name": "stdout",
     "output_type": "stream",
     "text": [
      "[-1.18644068 -0.16949153  0.50847458]\n"
     ]
    }
   ],
   "source": [
    "u3 = v3 - projectuv(v3,u1) - projectuv(v3,u2)\n",
    "print(u3)"
   ]
  },
  {
   "cell_type": "markdown",
   "id": "d0abfdcf",
   "metadata": {},
   "source": [
    "# act"
   ]
  },
  {
   "cell_type": "code",
   "execution_count": 46,
   "id": "8cdd7f86",
   "metadata": {},
   "outputs": [
    {
     "name": "stdout",
     "output_type": "stream",
     "text": [
      "[1 2 3] [ 0 -2  3]\n"
     ]
    }
   ],
   "source": [
    "a = np.array([1,2,3])\n",
    "b = np.array([0,-2,3])\n",
    "print(a,b)"
   ]
  },
  {
   "cell_type": "code",
   "execution_count": 47,
   "id": "283ed73e",
   "metadata": {},
   "outputs": [],
   "source": [
    "b_norm = np.sqrt(sum(b**2))\n",
    "proj_of_a_on_b = (np.dot(a,b)/b_norm**2)*b"
   ]
  },
  {
   "cell_type": "code",
   "execution_count": 48,
   "id": "19e8aff2",
   "metadata": {},
   "outputs": [
    {
     "name": "stdout",
     "output_type": "stream",
     "text": [
      "projection of vector a on verter b is :  [ 0.         -0.76923077  1.15384615]\n"
     ]
    }
   ],
   "source": [
    "print(\"projection of vector a on verter b is : \",proj_of_a_on_b)"
   ]
  },
  {
   "cell_type": "code",
   "execution_count": 14,
   "id": "d3329d09",
   "metadata": {},
   "outputs": [
    {
     "name": "stdout",
     "output_type": "stream",
     "text": [
      "[-3  0  7] [ 1  8 -6]\n",
      "projection of vector a on verter b is :  [-0.44554455 -3.56435644  2.67326733]\n"
     ]
    }
   ],
   "source": [
    "a = np.array([-3,0,7])\n",
    "b = np.array([1,8,-6])\n",
    "print(a,b)\n",
    "b_norm = np.sqrt(sum(b**2))\n",
    "proj_of_a_on_b = (np.dot(a,b)/b_norm**2)*b\n",
    "print(\"projection of vector a on verter b is : \",proj_of_a_on_b)"
   ]
  },
  {
   "cell_type": "code",
   "execution_count": 15,
   "id": "60a054f9",
   "metadata": {},
   "outputs": [
    {
     "name": "stdout",
     "output_type": "stream",
     "text": [
      "[10 -2  4] [5 1 2]\n",
      "projection of vector a on verter b is :  [9.33333333 1.86666667 3.73333333]\n"
     ]
    }
   ],
   "source": [
    "a = np.array([10,-2,4])\n",
    "b = np.array([5,1,2])\n",
    "print(a,b)\n",
    "b_norm = np.sqrt(sum(b**2))\n",
    "proj_of_a_on_b = (np.dot(a,b)/b_norm**2)*b\n",
    "print(\"projection of vector a on verter b is : \",proj_of_a_on_b)"
   ]
  },
  {
   "cell_type": "code",
   "execution_count": 16,
   "id": "07f39e66",
   "metadata": {},
   "outputs": [
    {
     "name": "stdout",
     "output_type": "stream",
     "text": [
      "[-4 -5  8  3] [-1  2  6  1]\n",
      "projection of vector a on verter b is :  [-1.07142857  2.14285714  6.42857143  1.07142857]\n"
     ]
    }
   ],
   "source": [
    "a = np.array([-4,-5,8,3])\n",
    "b = np.array([-1,2,6,1])\n",
    "print(a,b)\n",
    "b_norm = np.sqrt(sum(b**2))\n",
    "proj_of_a_on_b = (np.dot(a,b)/b_norm**2)*b\n",
    "print(\"projection of vector a on verter b is : \",proj_of_a_on_b)"
   ]
  },
  {
   "cell_type": "code",
   "execution_count": 17,
   "id": "ec64f972",
   "metadata": {},
   "outputs": [
    {
     "name": "stdout",
     "output_type": "stream",
     "text": [
      "[ 8  4 -2 -5] [ 3 -1  0  6]\n",
      "projection of vector a on verter b is :  [-0.65217391  0.2173913  -0.         -1.30434783]\n"
     ]
    }
   ],
   "source": [
    "a = np.array([8,4,-2,-5])\n",
    "b = np.array([3,-1,0,6])\n",
    "print(a,b)\n",
    "b_norm = np.sqrt(sum(b**2))\n",
    "proj_of_a_on_b = (np.dot(a,b)/b_norm**2)*b\n",
    "print(\"projection of vector a on verter b is : \",proj_of_a_on_b)"
   ]
  },
  {
   "cell_type": "markdown",
   "id": "1ea4855b",
   "metadata": {},
   "source": [
    "# act"
   ]
  },
  {
   "cell_type": "code",
   "execution_count": 18,
   "id": "a998af4a",
   "metadata": {},
   "outputs": [],
   "source": [
    "v1 = np.array([2,3,-3])\n",
    "v2 = np.array([1,-2,1])\n",
    "v3 = np.array([0,2,1])"
   ]
  },
  {
   "cell_type": "code",
   "execution_count": 19,
   "id": "c03a175c",
   "metadata": {},
   "outputs": [
    {
     "name": "stdout",
     "output_type": "stream",
     "text": [
      "[ 2  3 -3]\n"
     ]
    }
   ],
   "source": [
    "u1 = v1\n",
    "print(u1)"
   ]
  },
  {
   "cell_type": "code",
   "execution_count": 20,
   "id": "e6513482",
   "metadata": {},
   "outputs": [
    {
     "name": "stdout",
     "output_type": "stream",
     "text": [
      "[ 1.63636364 -1.04545455  0.04545455]\n"
     ]
    }
   ],
   "source": [
    "u2 = v2 - projectuv(v2,u1)\n",
    "print(u2)"
   ]
  },
  {
   "cell_type": "code",
   "execution_count": 21,
   "id": "26054f78",
   "metadata": {},
   "outputs": [
    {
     "name": "stdout",
     "output_type": "stream",
     "text": [
      "[0.61445783 1.02409639 1.43373494]\n"
     ]
    }
   ],
   "source": [
    "u3 = v3 - projectuv(v3,u1) - projectuv(v3,u2)\n",
    "print(u3)"
   ]
  },
  {
   "cell_type": "code",
   "execution_count": 22,
   "id": "fb616e92",
   "metadata": {},
   "outputs": [],
   "source": [
    "v1 = np.array([2,2,1])\n",
    "v2 = np.array([0,-3,2])\n",
    "v3 = np.array([1,3,4])"
   ]
  },
  {
   "cell_type": "code",
   "execution_count": 23,
   "id": "342580de",
   "metadata": {},
   "outputs": [
    {
     "name": "stdout",
     "output_type": "stream",
     "text": [
      "[2 2 1]\n"
     ]
    }
   ],
   "source": [
    "u1 = v1\n",
    "print(u1)"
   ]
  },
  {
   "cell_type": "code",
   "execution_count": 24,
   "id": "2a149962",
   "metadata": {},
   "outputs": [
    {
     "name": "stdout",
     "output_type": "stream",
     "text": [
      "[ 0.88888889 -2.11111111  2.44444444]\n"
     ]
    }
   ],
   "source": [
    "u2 = v2 - projectuv(v2,u1)\n",
    "print(u2)"
   ]
  },
  {
   "cell_type": "code",
   "execution_count": 25,
   "id": "7419a90d",
   "metadata": {},
   "outputs": [
    {
     "name": "stdout",
     "output_type": "stream",
     "text": [
      "[-2.00990099  1.14851485  1.72277228]\n"
     ]
    }
   ],
   "source": [
    "u3 = v3 - projectuv(v3,u1) - projectuv(v3,u2)\n",
    "print(u3)"
   ]
  },
  {
   "cell_type": "code",
   "execution_count": 26,
   "id": "ab6ea987",
   "metadata": {},
   "outputs": [],
   "source": [
    "v1 = np.array([-1,5,4])\n",
    "v2 = np.array([-1,-2,3])\n",
    "v3 = np.array([-2,2,-4])"
   ]
  },
  {
   "cell_type": "code",
   "execution_count": 27,
   "id": "6540a240",
   "metadata": {},
   "outputs": [
    {
     "name": "stdout",
     "output_type": "stream",
     "text": [
      "[-1  5  4]\n"
     ]
    }
   ],
   "source": [
    "u1 = v1\n",
    "print(u1)"
   ]
  },
  {
   "cell_type": "code",
   "execution_count": 28,
   "id": "f14abfc3",
   "metadata": {},
   "outputs": [
    {
     "name": "stdout",
     "output_type": "stream",
     "text": [
      "[-0.92857143 -2.35714286  2.71428571]\n"
     ]
    }
   ],
   "source": [
    "u2 = v2 - projectuv(v2,u1)\n",
    "print(u2)"
   ]
  },
  {
   "cell_type": "code",
   "execution_count": 29,
   "id": "2f38a9b1",
   "metadata": {},
   "outputs": [
    {
     "name": "stdout",
     "output_type": "stream",
     "text": [
      "[-3.01899827  0.13126079 -0.91882556]\n"
     ]
    }
   ],
   "source": [
    "u3 = v3 - projectuv(v3,u1) - projectuv(v3,u2)\n",
    "print(u3)"
   ]
  },
  {
   "cell_type": "code",
   "execution_count": 30,
   "id": "58f8601e",
   "metadata": {},
   "outputs": [],
   "source": [
    "v1 = np.array([1,3,6,5])\n",
    "v2 = np.array([2,-7,2,0])\n",
    "v3 = np.array([3,2,0,-5])"
   ]
  },
  {
   "cell_type": "code",
   "execution_count": 31,
   "id": "2d015459",
   "metadata": {},
   "outputs": [
    {
     "name": "stdout",
     "output_type": "stream",
     "text": [
      "[1 3 6 5]\n"
     ]
    }
   ],
   "source": [
    "u1 = v1\n",
    "print(u1)"
   ]
  },
  {
   "cell_type": "code",
   "execution_count": 32,
   "id": "fc3867a8",
   "metadata": {},
   "outputs": [
    {
     "name": "stdout",
     "output_type": "stream",
     "text": [
      "[ 2.09859155 -6.70422535  2.5915493   0.49295775]\n"
     ]
    }
   ],
   "source": [
    "u2 = v2 - projectuv(v2,u1)\n",
    "print(u2)"
   ]
  },
  {
   "cell_type": "code",
   "execution_count": 33,
   "id": "ea51ccf2",
   "metadata": {},
   "outputs": [
    {
     "name": "stdout",
     "output_type": "stream",
     "text": [
      "[ 3.58229115  1.53576788  1.79289645 -3.7893947 ]\n"
     ]
    }
   ],
   "source": [
    "u3 = v3 - projectuv(v3,u1) - projectuv(v3,u2)\n",
    "print(u3)"
   ]
  },
  {
   "cell_type": "code",
   "execution_count": 34,
   "id": "e6a3ad91",
   "metadata": {},
   "outputs": [],
   "source": [
    "v1 = np.array([-2,4,0,2])\n",
    "v2 = np.array([3,-5,1,1])\n",
    "v3 = np.array([2,1,-5,3])"
   ]
  },
  {
   "cell_type": "code",
   "execution_count": 35,
   "id": "f79513e4",
   "metadata": {},
   "outputs": [
    {
     "name": "stdout",
     "output_type": "stream",
     "text": [
      "[-2  4  0  2]\n"
     ]
    }
   ],
   "source": [
    "u1 = v1\n",
    "print(u1)"
   ]
  },
  {
   "cell_type": "code",
   "execution_count": 36,
   "id": "f1810402",
   "metadata": {},
   "outputs": [
    {
     "name": "stdout",
     "output_type": "stream",
     "text": [
      "[ 1. -1.  1.  3.]\n"
     ]
    }
   ],
   "source": [
    "u2 = v2 - projectuv(v2,u1)\n",
    "print(u2)"
   ]
  },
  {
   "cell_type": "code",
   "execution_count": 37,
   "id": "fcf8f1a9",
   "metadata": {},
   "outputs": [
    {
     "name": "stdout",
     "output_type": "stream",
     "text": [
      "[ 2.08333333  0.41666667 -5.41666667  1.25      ]\n"
     ]
    }
   ],
   "source": [
    "u3 = v3 - projectuv(v3,u1) - projectuv(v3,u2)\n",
    "print(u3)"
   ]
  },
  {
   "cell_type": "markdown",
   "id": "5a09275b",
   "metadata": {},
   "source": [
    "# end"
   ]
  }
 ],
 "metadata": {
  "kernelspec": {
   "display_name": "Python 3 (ipykernel)",
   "language": "python",
   "name": "python3"
  },
  "language_info": {
   "codemirror_mode": {
    "name": "ipython",
    "version": 3
   },
   "file_extension": ".py",
   "mimetype": "text/x-python",
   "name": "python",
   "nbconvert_exporter": "python",
   "pygments_lexer": "ipython3",
   "version": "3.11.5"
  }
 },
 "nbformat": 4,
 "nbformat_minor": 5
}
