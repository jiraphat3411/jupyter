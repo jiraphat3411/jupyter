{
 "cells": [
  {
   "cell_type": "markdown",
   "metadata": {
    "id": "D0F4CUB4sqU0"
   },
   "source": [
    "# รหัสนักศึกษา-ชื่อ-นามสกุล (Heading)\n"
   ]
  },
  {
   "cell_type": "markdown",
   "metadata": {},
   "source": [
    " # 650710533 จิราพัชร เวชพะพา"
   ]
  },
  {
   "cell_type": "markdown",
   "metadata": {
    "id": "EzjdUQBPP8WW"
   },
   "source": [
    "### ในการทำแบบฝึกหัดให้เพิ่ม cell ด้านล่างของโจทย์เพื่อเขียน code"
   ]
  },
  {
   "cell_type": "markdown",
   "metadata": {
    "id": "HMFKAH2HP8WY"
   },
   "source": [
    "import Library ที่สำคัญในงาน"
   ]
  },
  {
   "cell_type": "code",
   "execution_count": 1,
   "metadata": {
    "id": "41EntVmSsqU6"
   },
   "outputs": [],
   "source": [
    "#Import Python Libraries\n",
    "import numpy as np\n",
    "# import scipy as sp\n",
    "import pandas as pd\n",
    "# import matplotlib.pyplot as plt\n",
    "# import seaborn as sns"
   ]
  },
  {
   "cell_type": "markdown",
   "metadata": {},
   "source": [
    "# dataset : https://github.com/King-Ju/datasetforstudent/blob/8405aba6740d992cb55f546d3740e1733f5f8fcb/starbucks.csv"
   ]
  },
  {
   "cell_type": "markdown",
   "metadata": {
    "id": "fkY1FbhkP8We"
   },
   "source": [
    "1. Read csv file (\".csv\")"
   ]
  },
  {
   "cell_type": "code",
   "execution_count": 2,
   "metadata": {
    "id": "EGIEyIMlsqU8"
   },
   "outputs": [],
   "source": [
    "#Read csv file\n",
    "\n",
    "#df = pd.read_csv(\"E:/520215/Salaries.csv\")   "
   ]
  },
  {
   "cell_type": "code",
   "execution_count": 3,
   "metadata": {},
   "outputs": [],
   "source": [
    "df = pd.read_csv(\"starbucks.csv\")"
   ]
  },
  {
   "cell_type": "markdown",
   "metadata": {
    "id": "TNXfu67-P8Wi"
   },
   "source": [
    "2. เรียกดูข้อมูล 15 แถวสุดท้ายและคำนวณค่าสถิติพื้นฐาน"
   ]
  },
  {
   "cell_type": "code",
   "execution_count": null,
   "metadata": {
    "id": "Zw7U94PyP8Wl",
    "outputId": "8afbcb2e-23cf-4b1f-8f98-c8a3a96944df"
   },
   "outputs": [],
   "source": []
  },
  {
   "cell_type": "code",
   "execution_count": 4,
   "metadata": {},
   "outputs": [
    {
     "data": {
      "text/html": [
       "<div>\n",
       "<style scoped>\n",
       "    .dataframe tbody tr th:only-of-type {\n",
       "        vertical-align: middle;\n",
       "    }\n",
       "\n",
       "    .dataframe tbody tr th {\n",
       "        vertical-align: top;\n",
       "    }\n",
       "\n",
       "    .dataframe thead th {\n",
       "        text-align: right;\n",
       "    }\n",
       "</style>\n",
       "<table border=\"1\" class=\"dataframe\">\n",
       "  <thead>\n",
       "    <tr style=\"text-align: right;\">\n",
       "      <th></th>\n",
       "      <th>Calories</th>\n",
       "      <th>Trans Fat (g)</th>\n",
       "      <th>Saturated Fat (g)</th>\n",
       "      <th>Sodium (mg)</th>\n",
       "      <th>Total Carbohydrates (g)</th>\n",
       "      <th>Cholesterol (mg)</th>\n",
       "      <th>Dietary Fibre (g)</th>\n",
       "      <th>Sugars (g)</th>\n",
       "      <th>Protein (g)</th>\n",
       "    </tr>\n",
       "  </thead>\n",
       "  <tbody>\n",
       "    <tr>\n",
       "      <th>count</th>\n",
       "      <td>15.000000</td>\n",
       "      <td>15.000000</td>\n",
       "      <td>15.000000</td>\n",
       "      <td>15.000000</td>\n",
       "      <td>15.000000</td>\n",
       "      <td>15.000000</td>\n",
       "      <td>15.000000</td>\n",
       "      <td>15.000000</td>\n",
       "      <td>15.000000</td>\n",
       "    </tr>\n",
       "    <tr>\n",
       "      <th>mean</th>\n",
       "      <td>236.000000</td>\n",
       "      <td>1.133333</td>\n",
       "      <td>0.033333</td>\n",
       "      <td>4.000000</td>\n",
       "      <td>201.000000</td>\n",
       "      <td>50.000000</td>\n",
       "      <td>0.533333</td>\n",
       "      <td>48.066667</td>\n",
       "      <td>4.266667</td>\n",
       "    </tr>\n",
       "    <tr>\n",
       "      <th>std</th>\n",
       "      <td>59.136646</td>\n",
       "      <td>1.344654</td>\n",
       "      <td>0.061721</td>\n",
       "      <td>5.070926</td>\n",
       "      <td>55.684058</td>\n",
       "      <td>12.253279</td>\n",
       "      <td>0.743223</td>\n",
       "      <td>12.056218</td>\n",
       "      <td>1.334523</td>\n",
       "    </tr>\n",
       "    <tr>\n",
       "      <th>min</th>\n",
       "      <td>170.000000</td>\n",
       "      <td>0.100000</td>\n",
       "      <td>0.000000</td>\n",
       "      <td>0.000000</td>\n",
       "      <td>135.000000</td>\n",
       "      <td>37.000000</td>\n",
       "      <td>0.000000</td>\n",
       "      <td>35.000000</td>\n",
       "      <td>3.000000</td>\n",
       "    </tr>\n",
       "    <tr>\n",
       "      <th>25%</th>\n",
       "      <td>185.000000</td>\n",
       "      <td>0.100000</td>\n",
       "      <td>0.000000</td>\n",
       "      <td>0.000000</td>\n",
       "      <td>160.000000</td>\n",
       "      <td>39.000000</td>\n",
       "      <td>0.000000</td>\n",
       "      <td>38.000000</td>\n",
       "      <td>3.000000</td>\n",
       "    </tr>\n",
       "    <tr>\n",
       "      <th>50%</th>\n",
       "      <td>230.000000</td>\n",
       "      <td>0.200000</td>\n",
       "      <td>0.000000</td>\n",
       "      <td>0.000000</td>\n",
       "      <td>190.000000</td>\n",
       "      <td>51.000000</td>\n",
       "      <td>0.000000</td>\n",
       "      <td>49.000000</td>\n",
       "      <td>4.000000</td>\n",
       "    </tr>\n",
       "    <tr>\n",
       "      <th>75%</th>\n",
       "      <td>275.000000</td>\n",
       "      <td>2.000000</td>\n",
       "      <td>0.050000</td>\n",
       "      <td>7.500000</td>\n",
       "      <td>245.000000</td>\n",
       "      <td>57.000000</td>\n",
       "      <td>1.000000</td>\n",
       "      <td>53.500000</td>\n",
       "      <td>5.000000</td>\n",
       "    </tr>\n",
       "    <tr>\n",
       "      <th>max</th>\n",
       "      <td>350.000000</td>\n",
       "      <td>4.000000</td>\n",
       "      <td>0.200000</td>\n",
       "      <td>15.000000</td>\n",
       "      <td>320.000000</td>\n",
       "      <td>70.000000</td>\n",
       "      <td>2.000000</td>\n",
       "      <td>69.000000</td>\n",
       "      <td>7.000000</td>\n",
       "    </tr>\n",
       "  </tbody>\n",
       "</table>\n",
       "</div>"
      ],
      "text/plain": [
       "         Calories  Trans Fat (g)   Saturated Fat (g)   Sodium (mg)  \\\n",
       "count   15.000000       15.000000          15.000000     15.000000   \n",
       "mean   236.000000        1.133333           0.033333      4.000000   \n",
       "std     59.136646        1.344654           0.061721      5.070926   \n",
       "min    170.000000        0.100000           0.000000      0.000000   \n",
       "25%    185.000000        0.100000           0.000000      0.000000   \n",
       "50%    230.000000        0.200000           0.000000      0.000000   \n",
       "75%    275.000000        2.000000           0.050000      7.500000   \n",
       "max    350.000000        4.000000           0.200000     15.000000   \n",
       "\n",
       "        Total Carbohydrates (g)   Cholesterol (mg)   Dietary Fibre (g)  \\\n",
       "count                  15.000000         15.000000           15.000000   \n",
       "mean                  201.000000         50.000000            0.533333   \n",
       "std                    55.684058         12.253279            0.743223   \n",
       "min                   135.000000         37.000000            0.000000   \n",
       "25%                   160.000000         39.000000            0.000000   \n",
       "50%                   190.000000         51.000000            0.000000   \n",
       "75%                   245.000000         57.000000            1.000000   \n",
       "max                   320.000000         70.000000            2.000000   \n",
       "\n",
       "        Sugars (g)   Protein (g)   \n",
       "count    15.000000      15.000000  \n",
       "mean     48.066667       4.266667  \n",
       "std      12.056218       1.334523  \n",
       "min      35.000000       3.000000  \n",
       "25%      38.000000       3.000000  \n",
       "50%      49.000000       4.000000  \n",
       "75%      53.500000       5.000000  \n",
       "max      69.000000       7.000000  "
      ]
     },
     "execution_count": 4,
     "metadata": {},
     "output_type": "execute_result"
    }
   ],
   "source": [
    "df.tail(15).describe()"
   ]
  },
  {
   "cell_type": "markdown",
   "metadata": {
    "id": "iPZTLntLP8Wp"
   },
   "source": [
    "3. เลือกข้อมูลตั้งแต่แถวที่ 25-50 แบ่งกลุ่มตาม Beverage และ Beverage_prep เพื่อแสดงค่า Calories เฉลี่ยของเครื่องดื่ม"
   ]
  },
  {
   "cell_type": "code",
   "execution_count": null,
   "metadata": {
    "id": "FKTTcKGDP8Wr",
    "outputId": "318937fd-0c39-4923-9725-37049f3dc819"
   },
   "outputs": [],
   "source": []
  },
  {
   "cell_type": "code",
   "execution_count": 5,
   "metadata": {},
   "outputs": [
    {
     "data": {
      "text/html": [
       "<div>\n",
       "<style scoped>\n",
       "    .dataframe tbody tr th:only-of-type {\n",
       "        vertical-align: middle;\n",
       "    }\n",
       "\n",
       "    .dataframe tbody tr th {\n",
       "        vertical-align: top;\n",
       "    }\n",
       "\n",
       "    .dataframe thead th {\n",
       "        text-align: right;\n",
       "    }\n",
       "</style>\n",
       "<table border=\"1\" class=\"dataframe\">\n",
       "  <thead>\n",
       "    <tr style=\"text-align: right;\">\n",
       "      <th></th>\n",
       "      <th></th>\n",
       "      <th>Calories</th>\n",
       "    </tr>\n",
       "    <tr>\n",
       "      <th>Beverage</th>\n",
       "      <th>Beverage_prep</th>\n",
       "      <th></th>\n",
       "    </tr>\n",
       "  </thead>\n",
       "  <tbody>\n",
       "    <tr>\n",
       "      <th rowspan=\"4\" valign=\"top\">Caffè Americano</th>\n",
       "      <th>Grande</th>\n",
       "      <td>15.0</td>\n",
       "    </tr>\n",
       "    <tr>\n",
       "      <th>Short</th>\n",
       "      <td>5.0</td>\n",
       "    </tr>\n",
       "    <tr>\n",
       "      <th>Tall</th>\n",
       "      <td>10.0</td>\n",
       "    </tr>\n",
       "    <tr>\n",
       "      <th>Venti</th>\n",
       "      <td>25.0</td>\n",
       "    </tr>\n",
       "    <tr>\n",
       "      <th rowspan=\"3\" valign=\"top\">Caffè Mocha (Without Whipped Cream)</th>\n",
       "      <th>2% Milk</th>\n",
       "      <td>340.0</td>\n",
       "    </tr>\n",
       "    <tr>\n",
       "      <th>Soymilk</th>\n",
       "      <td>290.0</td>\n",
       "    </tr>\n",
       "    <tr>\n",
       "      <th>Venti Nonfat Milk</th>\n",
       "      <td>280.0</td>\n",
       "    </tr>\n",
       "    <tr>\n",
       "      <th rowspan=\"5\" valign=\"top\">Cappuccino</th>\n",
       "      <th>2% Milk</th>\n",
       "      <td>85.0</td>\n",
       "    </tr>\n",
       "    <tr>\n",
       "      <th>Grande Nonfat Milk</th>\n",
       "      <td>80.0</td>\n",
       "    </tr>\n",
       "    <tr>\n",
       "      <th>Short Nonfat Milk</th>\n",
       "      <td>50.0</td>\n",
       "    </tr>\n",
       "    <tr>\n",
       "      <th>Soymilk</th>\n",
       "      <td>60.0</td>\n",
       "    </tr>\n",
       "    <tr>\n",
       "      <th>Tall Nonfat Milk</th>\n",
       "      <td>60.0</td>\n",
       "    </tr>\n",
       "    <tr>\n",
       "      <th rowspan=\"6\" valign=\"top\">Vanilla Latte (Or Other Flavoured Latte)</th>\n",
       "      <th>2% Milk</th>\n",
       "      <td>225.0</td>\n",
       "    </tr>\n",
       "    <tr>\n",
       "      <th>Grande Nonfat Milk</th>\n",
       "      <td>200.0</td>\n",
       "    </tr>\n",
       "    <tr>\n",
       "      <th>Short Nonfat Milk</th>\n",
       "      <td>100.0</td>\n",
       "    </tr>\n",
       "    <tr>\n",
       "      <th>Soymilk</th>\n",
       "      <td>187.5</td>\n",
       "    </tr>\n",
       "    <tr>\n",
       "      <th>Tall Nonfat Milk</th>\n",
       "      <td>150.0</td>\n",
       "    </tr>\n",
       "    <tr>\n",
       "      <th>Venti Nonfat Milk</th>\n",
       "      <td>250.0</td>\n",
       "    </tr>\n",
       "  </tbody>\n",
       "</table>\n",
       "</div>"
      ],
      "text/plain": [
       "                                                             Calories\n",
       "Beverage                                 Beverage_prep               \n",
       "Caffè Americano                          Grande                  15.0\n",
       "                                         Short                    5.0\n",
       "                                         Tall                    10.0\n",
       "                                         Venti                   25.0\n",
       "Caffè Mocha (Without Whipped Cream)      2% Milk                340.0\n",
       "                                         Soymilk                290.0\n",
       "                                         Venti Nonfat Milk      280.0\n",
       "Cappuccino                               2% Milk                 85.0\n",
       "                                         Grande Nonfat Milk      80.0\n",
       "                                         Short Nonfat Milk       50.0\n",
       "                                         Soymilk                 60.0\n",
       "                                         Tall Nonfat Milk        60.0\n",
       "Vanilla Latte (Or Other Flavoured Latte) 2% Milk                225.0\n",
       "                                         Grande Nonfat Milk     200.0\n",
       "                                         Short Nonfat Milk      100.0\n",
       "                                         Soymilk                187.5\n",
       "                                         Tall Nonfat Milk       150.0\n",
       "                                         Venti Nonfat Milk      250.0"
      ]
     },
     "execution_count": 5,
     "metadata": {},
     "output_type": "execute_result"
    }
   ],
   "source": [
    "df[25:51].groupby(['Beverage','Beverage_prep'])[['Calories']].mean()"
   ]
  },
  {
   "cell_type": "markdown",
   "metadata": {
    "id": "VYlwODOAP8Wt"
   },
   "source": [
    "4. แสดงเครื่องดื่มที่ส่วนประกอบของ 2% Milk ,Calories > 350 และ Caffeine (mg) มีค่ามากกว่า 0"
   ]
  },
  {
   "cell_type": "code",
   "execution_count": null,
   "metadata": {
    "id": "6GageHWqP8Wv",
    "outputId": "09cc8af9-9108-4156-b7fc-f813dc4563ad"
   },
   "outputs": [],
   "source": []
  },
  {
   "cell_type": "code",
   "execution_count": 6,
   "metadata": {},
   "outputs": [
    {
     "data": {
      "text/html": [
       "<div>\n",
       "<style scoped>\n",
       "    .dataframe tbody tr th:only-of-type {\n",
       "        vertical-align: middle;\n",
       "    }\n",
       "\n",
       "    .dataframe tbody tr th {\n",
       "        vertical-align: top;\n",
       "    }\n",
       "\n",
       "    .dataframe thead th {\n",
       "        text-align: right;\n",
       "    }\n",
       "</style>\n",
       "<table border=\"1\" class=\"dataframe\">\n",
       "  <thead>\n",
       "    <tr style=\"text-align: right;\">\n",
       "      <th></th>\n",
       "      <th>Beverage_category</th>\n",
       "      <th>Beverage</th>\n",
       "      <th>Beverage_prep</th>\n",
       "      <th>Calories</th>\n",
       "      <th>Total Fat (g)</th>\n",
       "      <th>Trans Fat (g)</th>\n",
       "      <th>Saturated Fat (g)</th>\n",
       "      <th>Sodium (mg)</th>\n",
       "      <th>Total Carbohydrates (g)</th>\n",
       "      <th>Cholesterol (mg)</th>\n",
       "      <th>Dietary Fibre (g)</th>\n",
       "      <th>Sugars (g)</th>\n",
       "      <th>Protein (g)</th>\n",
       "      <th>Vitamin A (% DV)</th>\n",
       "      <th>Vitamin C (% DV)</th>\n",
       "      <th>Calcium (% DV)</th>\n",
       "      <th>Iron (% DV)</th>\n",
       "      <th>Caffeine (mg)</th>\n",
       "    </tr>\n",
       "  </thead>\n",
       "  <tbody>\n",
       "    <tr>\n",
       "      <th>81</th>\n",
       "      <td>Signature Espresso Drinks</td>\n",
       "      <td>White Chocolate Mocha (Without Whipped Cream)</td>\n",
       "      <td>2% Milk</td>\n",
       "      <td>400</td>\n",
       "      <td>11</td>\n",
       "      <td>7.0</td>\n",
       "      <td>0.2</td>\n",
       "      <td>25</td>\n",
       "      <td>250</td>\n",
       "      <td>61</td>\n",
       "      <td>0</td>\n",
       "      <td>58</td>\n",
       "      <td>15.0</td>\n",
       "      <td>15%</td>\n",
       "      <td>2%</td>\n",
       "      <td>45%</td>\n",
       "      <td>0%</td>\n",
       "      <td>150</td>\n",
       "    </tr>\n",
       "    <tr>\n",
       "      <th>84</th>\n",
       "      <td>Signature Espresso Drinks</td>\n",
       "      <td>White Chocolate Mocha (Without Whipped Cream)</td>\n",
       "      <td>2% Milk</td>\n",
       "      <td>510</td>\n",
       "      <td>15</td>\n",
       "      <td>9.0</td>\n",
       "      <td>0.2</td>\n",
       "      <td>35</td>\n",
       "      <td>330</td>\n",
       "      <td>77</td>\n",
       "      <td>0</td>\n",
       "      <td>74</td>\n",
       "      <td>19.0</td>\n",
       "      <td>20%</td>\n",
       "      <td>4%</td>\n",
       "      <td>60%</td>\n",
       "      <td>2%</td>\n",
       "      <td>150</td>\n",
       "    </tr>\n",
       "    <tr>\n",
       "      <th>96</th>\n",
       "      <td>Signature Espresso Drinks</td>\n",
       "      <td>Hot Chocolate (Without Whipped Cream)</td>\n",
       "      <td>2% Milk</td>\n",
       "      <td>380</td>\n",
       "      <td>11</td>\n",
       "      <td>6.0</td>\n",
       "      <td>0.3</td>\n",
       "      <td>35</td>\n",
       "      <td>200</td>\n",
       "      <td>63</td>\n",
       "      <td>2</td>\n",
       "      <td>54</td>\n",
       "      <td>17.0</td>\n",
       "      <td>25%</td>\n",
       "      <td>2%</td>\n",
       "      <td>50%</td>\n",
       "      <td>30%</td>\n",
       "      <td>30</td>\n",
       "    </tr>\n",
       "    <tr>\n",
       "      <th>128</th>\n",
       "      <td>Tazo® Tea Drinks</td>\n",
       "      <td>Tazo® Green Tea Latte</td>\n",
       "      <td>2% Milk</td>\n",
       "      <td>450</td>\n",
       "      <td>10</td>\n",
       "      <td>5.0</td>\n",
       "      <td>0.3</td>\n",
       "      <td>40</td>\n",
       "      <td>230</td>\n",
       "      <td>72</td>\n",
       "      <td>2</td>\n",
       "      <td>71</td>\n",
       "      <td>17.0</td>\n",
       "      <td>25%</td>\n",
       "      <td>20%</td>\n",
       "      <td>50%</td>\n",
       "      <td>6%</td>\n",
       "      <td>110</td>\n",
       "    </tr>\n",
       "  </tbody>\n",
       "</table>\n",
       "</div>"
      ],
      "text/plain": [
       "             Beverage_category                                       Beverage  \\\n",
       "81   Signature Espresso Drinks  White Chocolate Mocha (Without Whipped Cream)   \n",
       "84   Signature Espresso Drinks  White Chocolate Mocha (Without Whipped Cream)   \n",
       "96   Signature Espresso Drinks          Hot Chocolate (Without Whipped Cream)   \n",
       "128           Tazo® Tea Drinks                          Tazo® Green Tea Latte   \n",
       "\n",
       "    Beverage_prep  Calories  Total Fat (g)  Trans Fat (g)   Saturated Fat (g)  \\\n",
       "81        2% Milk       400             11             7.0                0.2   \n",
       "84        2% Milk       510             15             9.0                0.2   \n",
       "96        2% Milk       380             11             6.0                0.3   \n",
       "128       2% Milk       450             10             5.0                0.3   \n",
       "\n",
       "      Sodium (mg)   Total Carbohydrates (g)   Cholesterol (mg)  \\\n",
       "81             25                        250                61   \n",
       "84             35                        330                77   \n",
       "96             35                        200                63   \n",
       "128            40                        230                72   \n",
       "\n",
       "      Dietary Fibre (g)   Sugars (g)   Protein (g)  Vitamin A (% DV)   \\\n",
       "81                    0           58           15.0               15%   \n",
       "84                    0           74           19.0               20%   \n",
       "96                    2           54           17.0               25%   \n",
       "128                   2           71           17.0               25%   \n",
       "\n",
       "    Vitamin C (% DV)  Calcium (% DV)  Iron (% DV)  Caffeine (mg)  \n",
       "81                2%              45%           0%           150  \n",
       "84                4%              60%           2%           150  \n",
       "96                2%              50%          30%            30  \n",
       "128              20%              50%           6%           110  "
      ]
     },
     "execution_count": 6,
     "metadata": {},
     "output_type": "execute_result"
    }
   ],
   "source": [
    "#df[df['Beverage_prep'] == '2% Milk']\n",
    "#df[df['Calories'] > 350]\n",
    "#df[df['Caffeine (mg)'] != '0']\n",
    "df[(df['Beverage_prep'] == '2% Milk')&(df['Calories'] > 350)&(df['Caffeine (mg)'] != '0')]"
   ]
  },
  {
   "cell_type": "code",
   "execution_count": null,
   "metadata": {},
   "outputs": [],
   "source": []
  }
 ],
 "metadata": {
  "colab": {
   "collapsed_sections": [],
   "name": "Quiz3-3_Pandas_Aggregation_18_Aug_2022.ipynb",
   "provenance": []
  },
  "kernelspec": {
   "display_name": "Python 3",
   "language": "python",
   "name": "python3"
  },
  "language_info": {
   "codemirror_mode": {
    "name": "ipython",
    "version": 3
   },
   "file_extension": ".py",
   "mimetype": "text/x-python",
   "name": "python",
   "nbconvert_exporter": "python",
   "pygments_lexer": "ipython3",
   "version": "3.6.5"
  }
 },
 "nbformat": 4,
 "nbformat_minor": 1
}
