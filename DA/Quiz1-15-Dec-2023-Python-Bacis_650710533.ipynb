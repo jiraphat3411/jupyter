{
 "cells": [
  {
   "cell_type": "markdown",
   "metadata": {},
   "source": [
    "# 650710533 - jiraphat wetphapha"
   ]
  },
  {
   "cell_type": "markdown",
   "metadata": {},
   "source": [
    "# คำสั่ง\n",
    "- คะแนนควิซมีดังนี้ \n",
    "    - ข้อที่ 1-6 ข้อละ 2.5 คะแนน \n",
    "    - ข้อที่ 7 ข้อละ 5 คะแนน\n",
    "    - รวมทั้งหมด 20 คะแนน\n",
    "- อนุญาตให้เพื่อนช่วยเหลือกันได้ด้วยวิธีการของปัญญาชน สอนหรืออธิบายต่างๆ \n",
    "     หากพบมีการทุจริตหรือสงสัยว่ามีการทุจริต และผู้ถูกกล่าวหาว่าทุจริตไม่สามารถพิสูจน์ความบริสุทธิ์ได้ ไม่มีคะแนนในการควิซครั้งนั้น และหากพบว่ามีการร่วมือกัน พิจารณาหักคะแนนผู้สมรู้ร่วมคิด\n",
    "- เมื่อเวลาหมดลงหยุดการตรวจและส่งควิซทันที เพราะฉะนั้น **กรุณาบริหารเวลาให้ดี**"
   ]
  },
  {
   "cell_type": "markdown",
   "metadata": {
    "nbgrader": {
     "grade": false,
     "grade_id": "cell-42b96fd90064f955",
     "locked": true,
     "schema_version": 3,
     "solution": false,
     "task": false
    }
   },
   "source": [
    "### 0. สร้างหัวข้อ (Heading) ตามรูปแบบด้านล่าง\n",
    "    - 650710XXX-wednesday addams"
   ]
  },
  {
   "cell_type": "markdown",
   "metadata": {
    "nbgrader": {
     "grade": false,
     "grade_id": "cell-5a0a5fce51c6f5d6",
     "locked": true,
     "schema_version": 3,
     "solution": false,
     "task": false
    }
   },
   "source": [
    "### 1. รับข้อความ \"Lueamsai\" ทางหน้าจอและพิมพ์ออกมา 300 ครั้งใน 1 บรรทัด"
   ]
  },
  {
   "cell_type": "code",
   "execution_count": 27,
   "metadata": {},
   "outputs": [
    {
     "name": "stdout",
     "output_type": "stream",
     "text": [
      "LueamsaiLueamsaiLueamsaiLueamsaiLueamsaiLueamsaiLueamsaiLueamsaiLueamsaiLueamsaiLueamsaiLueamsaiLueamsaiLueamsaiLueamsaiLueamsaiLueamsaiLueamsaiLueamsaiLueamsaiLueamsaiLueamsaiLueamsaiLueamsaiLueamsaiLueamsaiLueamsaiLueamsaiLueamsaiLueamsaiLueamsaiLueamsaiLueamsaiLueamsaiLueamsaiLueamsaiLueamsaiLueamsaiLueamsaiLueamsaiLueamsaiLueamsaiLueamsaiLueamsaiLueamsaiLueamsaiLueamsaiLueamsaiLueamsaiLueamsaiLueamsaiLueamsaiLueamsaiLueamsaiLueamsaiLueamsaiLueamsaiLueamsaiLueamsaiLueamsaiLueamsaiLueamsaiLueamsaiLueamsaiLueamsaiLueamsaiLueamsaiLueamsaiLueamsaiLueamsaiLueamsaiLueamsaiLueamsaiLueamsaiLueamsaiLueamsaiLueamsaiLueamsaiLueamsaiLueamsaiLueamsaiLueamsaiLueamsaiLueamsaiLueamsaiLueamsaiLueamsaiLueamsaiLueamsaiLueamsaiLueamsaiLueamsaiLueamsaiLueamsaiLueamsaiLueamsaiLueamsaiLueamsaiLueamsaiLueamsaiLueamsaiLueamsaiLueamsaiLueamsaiLueamsaiLueamsaiLueamsaiLueamsaiLueamsaiLueamsaiLueamsaiLueamsaiLueamsaiLueamsaiLueamsaiLueamsaiLueamsaiLueamsaiLueamsaiLueamsaiLueamsaiLueamsaiLueamsaiLueamsaiLueamsaiLueamsaiLueamsaiLueamsaiLueamsaiLueamsaiLueamsaiLueamsaiLueamsaiLueamsaiLueamsaiLueamsaiLueamsaiLueamsaiLueamsaiLueamsaiLueamsaiLueamsaiLueamsaiLueamsaiLueamsaiLueamsaiLueamsaiLueamsaiLueamsaiLueamsaiLueamsaiLueamsaiLueamsaiLueamsaiLueamsaiLueamsaiLueamsaiLueamsaiLueamsaiLueamsaiLueamsaiLueamsaiLueamsaiLueamsaiLueamsaiLueamsaiLueamsaiLueamsaiLueamsaiLueamsaiLueamsaiLueamsaiLueamsaiLueamsaiLueamsaiLueamsaiLueamsaiLueamsaiLueamsaiLueamsaiLueamsaiLueamsaiLueamsaiLueamsaiLueamsaiLueamsaiLueamsaiLueamsaiLueamsaiLueamsaiLueamsaiLueamsaiLueamsaiLueamsaiLueamsaiLueamsaiLueamsaiLueamsaiLueamsaiLueamsaiLueamsaiLueamsaiLueamsaiLueamsaiLueamsaiLueamsaiLueamsaiLueamsaiLueamsaiLueamsaiLueamsaiLueamsaiLueamsaiLueamsaiLueamsaiLueamsaiLueamsaiLueamsaiLueamsaiLueamsaiLueamsaiLueamsaiLueamsaiLueamsaiLueamsaiLueamsaiLueamsaiLueamsaiLueamsaiLueamsaiLueamsaiLueamsaiLueamsaiLueamsaiLueamsaiLueamsaiLueamsaiLueamsaiLueamsaiLueamsaiLueamsaiLueamsaiLueamsaiLueamsaiLueamsaiLueamsaiLueamsaiLueamsaiLueamsaiLueamsaiLueamsaiLueamsaiLueamsaiLueamsaiLueamsaiLueamsaiLueamsaiLueamsaiLueamsaiLueamsaiLueamsaiLueamsaiLueamsaiLueamsaiLueamsaiLueamsaiLueamsaiLueamsaiLueamsaiLueamsaiLueamsaiLueamsaiLueamsaiLueamsaiLueamsaiLueamsaiLueamsaiLueamsaiLueamsaiLueamsaiLueamsaiLueamsaiLueamsaiLueamsaiLueamsaiLueamsaiLueamsaiLueamsaiLueamsaiLueamsaiLueamsaiLueamsaiLueamsaiLueamsaiLueamsaiLueamsaiLueamsaiLueamsaiLueamsaiLueamsai\n"
     ]
    }
   ],
   "source": [
    "print(\"Lueamsai\"*300)"
   ]
  },
  {
   "cell_type": "markdown",
   "metadata": {
    "nbgrader": {
     "grade": false,
     "grade_id": "cell-798e6b526c176fe2",
     "locked": true,
     "schema_version": 3,
     "solution": false,
     "task": false
    }
   },
   "source": [
    "### 2. พิมพ์ค่าที่อยู่ใน list ที่มีชื่อว่า jujutsu_kaisen_characters จากชื่อสุดท้ายไปชื่อแรก โดยแต่ละบรรทัดจะมีเพียง 1 ชื่อเท่านั้น"
   ]
  },
  {
   "cell_type": "code",
   "execution_count": 29,
   "metadata": {},
   "outputs": [],
   "source": [
    "jujutsu_kaisen_characters = [\n",
    "    \"Yuji Itadori\", \"Satoru Gojo\", \"Megumi Fushiguro\", \"Nobara Kugisaki\",\n",
    "    \"Suguru Geto\", \"Maki Zenin\", \"Panda\", \"Toge Inumaki\", \"Kento Nanami\",\n",
    "    \"Aoi Todo\", \"Mahito\", \"Kasumi Miwa\", \"Naoya Zenin\", \"Yuta Okkotsu\",\n",
    "    \"Yoshinobu Gakuganji\", \"Principal Yaga\", \"Awasaka\", \"Kokichi Muta\",\n",
    "    \"Kiyotaka Ijichi\", \"Kamo Family\", \"Yuki Tsukumo\", \"Momo Nishimiya\",\n",
    "    \"Yaga Orphanage Kids\", \"Masamichi Yaga\", \"Takuma Ino\", \"Noritoshi Kamo\",\n",
    "    \"Toji Fushiguro\", \"Junpei Yoshino\", \"Hanami\", \"Jogo\", \"Choso\",\n",
    "    \"Geto's Cursed Spirits\", \"Noritoshi Kamo's Cursed Corpse\", \"Yuta's Grandma\",\n",
    "    \"Kento's Students\", \"Shoko Ieiri\", \"Utahime Iori\", \"Mei Mei\",\n",
    "    \"Ogi Zenin\", \"Chojuro Zenin\", \"Naobito Zenin\", \"Naoya Zenin's Wife\",\n",
    "    \"Yuta's Friends\", \"Kiyotaka's Family\", \"Nanako Family\", \"Zennin Family\"\n",
    "]\n"
   ]
  },
  {
   "cell_type": "code",
   "execution_count": 30,
   "metadata": {},
   "outputs": [
    {
     "name": "stdout",
     "output_type": "stream",
     "text": [
      "Zennin Family\n",
      "Nanako Family\n",
      "Kiyotaka's Family\n",
      "Yuta's Friends\n",
      "Naoya Zenin's Wife\n",
      "Naobito Zenin\n",
      "Chojuro Zenin\n",
      "Ogi Zenin\n",
      "Mei Mei\n",
      "Utahime Iori\n",
      "Shoko Ieiri\n",
      "Kento's Students\n",
      "Yuta's Grandma\n",
      "Noritoshi Kamo's Cursed Corpse\n",
      "Geto's Cursed Spirits\n",
      "Choso\n",
      "Jogo\n",
      "Hanami\n",
      "Junpei Yoshino\n",
      "Toji Fushiguro\n",
      "Noritoshi Kamo\n",
      "Takuma Ino\n",
      "Masamichi Yaga\n",
      "Yaga Orphanage Kids\n",
      "Momo Nishimiya\n",
      "Yuki Tsukumo\n",
      "Kamo Family\n",
      "Kiyotaka Ijichi\n",
      "Kokichi Muta\n",
      "Awasaka\n",
      "Principal Yaga\n",
      "Yoshinobu Gakuganji\n",
      "Yuta Okkotsu\n",
      "Naoya Zenin\n",
      "Kasumi Miwa\n",
      "Mahito\n",
      "Aoi Todo\n",
      "Kento Nanami\n",
      "Toge Inumaki\n",
      "Panda\n",
      "Maki Zenin\n",
      "Suguru Geto\n",
      "Nobara Kugisaki\n",
      "Megumi Fushiguro\n",
      "Satoru Gojo\n",
      "Yuji Itadori\n"
     ]
    }
   ],
   "source": [
    "n = len(jujutsu_kaisen_characters)\n",
    "for i in range(n-1,-1,-1):\n",
    "    print(jujutsu_kaisen_characters[i])"
   ]
  },
  {
   "cell_type": "markdown",
   "metadata": {
    "nbgrader": {
     "grade": false,
     "grade_id": "cell-19676faa0ee93fbf",
     "locked": true,
     "schema_version": 3,
     "solution": false,
     "task": false
    }
   },
   "source": [
    "### 3. จงตรวจสอบชนิดของข้อมูลในตัวแปร text4 "
   ]
  },
  {
   "cell_type": "code",
   "execution_count": 31,
   "metadata": {
    "nbgrader": {
     "grade": false,
     "grade_id": "cell-e549f0a936481ccc",
     "locked": true,
     "schema_version": 3,
     "solution": false,
     "task": false
    }
   },
   "outputs": [],
   "source": [
    "text4 = \"The best preparation for tomorrow is doing your best today.\""
   ]
  },
  {
   "cell_type": "code",
   "execution_count": 32,
   "metadata": {},
   "outputs": [
    {
     "data": {
      "text/plain": [
       "str"
      ]
     },
     "execution_count": 32,
     "metadata": {},
     "output_type": "execute_result"
    }
   ],
   "source": [
    "type(text4)"
   ]
  },
  {
   "cell_type": "markdown",
   "metadata": {
    "nbgrader": {
     "grade": false,
     "grade_id": "cell-528aabcb2087eb90",
     "locked": true,
     "schema_version": 3,
     "solution": false,
     "task": false
    }
   },
   "source": [
    "# 4. คำนวณพลังธาตุภายในร่างกายมี\n",
    "\n",
    ">earth (ดิน)\n",
    "water (น้ำ)\n",
    "wind (ลม)\n",
    "fire (ไฟ) \n",
    "แล้วก็ ก๋วยเตี๋ยว !!!\n",
    "\n",
    "โดยมี\n",
    "- earth  เป็น 1/2 ของ water\n",
    "- water เป็น 1/4 ของ wind\n",
    "- wind เป็น 2 เท่าของ fire\n",
    "- fire เท่ากับ 5 \n",
    "- ก๋วยเตี๋ยว = earth+water+wind+fire \n",
    "\n",
    "*จงแสดงค่าของก๋วยเตี๋ยว*\n",
    "\n",
    "ตัวอย่าง\n",
    "ถ้าก๋วยเตี๋ยว=  100 \n",
    "print(100)\n",
    "\n"
   ]
  },
  {
   "cell_type": "code",
   "execution_count": 33,
   "metadata": {},
   "outputs": [
    {
     "name": "stdout",
     "output_type": "stream",
     "text": [
      "ก๋วยเตี๋ยว = 18.75\n"
     ]
    }
   ],
   "source": [
    "x = 5+(5*2)+((5*2)/4)+(((5*2)/4)/2)\n",
    "print(\"ก๋วยเตี๋ยว =\",x)"
   ]
  },
  {
   "cell_type": "markdown",
   "metadata": {
    "nbgrader": {
     "grade": false,
     "grade_id": "cell-af70732745590d95",
     "locked": true,
     "schema_version": 3,
     "solution": false,
     "task": false
    }
   },
   "source": [
    "### 5. จงตรวจสอบชนิดของข้อมูลในตัวแปร thislist และ thislist index ที่ 10 "
   ]
  },
  {
   "cell_type": "code",
   "execution_count": 34,
   "metadata": {
    "nbgrader": {
     "grade": false,
     "grade_id": "cell-5fd545b27199c83c",
     "locked": true,
     "schema_version": 3,
     "solution": false,
     "task": false
    }
   },
   "outputs": [],
   "source": [
    "thislist = ['🎉', 'G', 'N', 'C', 'Hello', 3.14, 'E', '🌈', 'J', 'B', '🤖', '🚀', 'A', True, 'M', 'I', 'F', 'L', 42]"
   ]
  },
  {
   "cell_type": "code",
   "execution_count": 36,
   "metadata": {},
   "outputs": [
    {
     "name": "stdout",
     "output_type": "stream",
     "text": [
      "<class 'list'> 🤖\n"
     ]
    }
   ],
   "source": [
    "print(type(thislist),thislist[10])"
   ]
  },
  {
   "cell_type": "markdown",
   "metadata": {},
   "source": [
    "### 6.จงเขียนโปรแกรมหาผลลัพธ์จากตัวแปร text"
   ]
  },
  {
   "cell_type": "code",
   "execution_count": 37,
   "metadata": {},
   "outputs": [],
   "source": [
    "x = 500\n",
    "y = 121\n",
    "z = 44\n",
    "setNum = [1,2,3,4,5,6,7,8,9,9,8,7,6,5,4,3,2,1]\n",
    "\n",
    "text = \"int(y*(x+5+5*5-5)+(z**3)+sum(setNum))\""
   ]
  },
  {
   "cell_type": "code",
   "execution_count": 38,
   "metadata": {},
   "outputs": [
    {
     "name": "stdout",
     "output_type": "stream",
     "text": [
      "148799\n"
     ]
    }
   ],
   "source": [
    "sum1 = 0\n",
    "for i in range(0,len(setNum)):\n",
    "    sum1+=setNum[i]\n",
    "sum2 = 44\n",
    "for i in range(2):\n",
    "    sum2*=44\n",
    "sum3 = x+5+5*5-5\n",
    "sum4 = sum3*y\n",
    "text = sum1+sum2+sum4\n",
    "print(text)"
   ]
  },
  {
   "cell_type": "markdown",
   "metadata": {},
   "source": [
    " ### 7. จงเขียนโปรงแกรมเรียงจัดเรียงตัวอักษรใหม่ \n",
    "โดยนับตัวอักษรจากตำแหน่งแรกของลิสต์ star ต่อด้วยตัวอักษรจากตำแหน่งสุดท้ายของลิสต์ wars \n",
    "และขยับตำแหน่งของลิสต์ star ขึ้น 1 ตำแหน่ง ในขณะเดียวกับก็ลดตำแหน่งของลิสต์ war ลง 1 ตำแหน่ง\n",
    "แล้วจึงจัดเรียงต่อกันทำเช่นนี้จนครบทุกตำแหน่งของลิตส์ทั้งสอง\n",
    "\n",
    "ตัวอย่าง\n",
    "```python\n",
    "     star = ['s','t','a','r']\n",
    "     wars = ['w','a','r','s']\n",
    "\n",
    "output\n",
    "     sstraarw\n",
    "```"
   ]
  },
  {
   "cell_type": "code",
   "execution_count": 67,
   "metadata": {},
   "outputs": [],
   "source": [
    "star = ['D', ',', 'o', ' ', 'o', 'n', 't', ' ', 'h', 'r', ' ', 's', 'n', ' ', 't', 'y', '.']"
   ]
  },
  {
   "cell_type": "code",
   "execution_count": 68,
   "metadata": {},
   "outputs": [],
   "source": [
    "wars = ['”', 'r', '“', 'o', ' ', 'i', 'e', 'e', 'T', '.', 'o', ' ', 'd', 'r', ' ', 'o']"
   ]
  },
  {
   "cell_type": "code",
   "execution_count": 69,
   "metadata": {},
   "outputs": [
    {
     "ename": "SyntaxError",
     "evalue": "invalid syntax (<ipython-input-69-6948bc862c66>, line 5)",
     "output_type": "error",
     "traceback": [
      "\u001b[1;36m  File \u001b[1;32m\"<ipython-input-69-6948bc862c66>\"\u001b[1;36m, line \u001b[1;32m5\u001b[0m\n\u001b[1;33m    else\u001b[0m\n\u001b[1;37m         ^\u001b[0m\n\u001b[1;31mSyntaxError\u001b[0m\u001b[1;31m:\u001b[0m invalid syntax\n"
     ]
    }
   ],
   "source": [
    "j = len(wars)-1\n",
    "for i in range(0,len(star)):\n",
    "    if j > -1 :\n",
    "        print(star[i],wars[j],end = '')\n",
    "    else \n",
    "    print(star[i])\n",
    "    j-=1"
   ]
  },
  {
   "cell_type": "code",
   "execution_count": null,
   "metadata": {},
   "outputs": [],
   "source": []
  }
 ],
 "metadata": {
  "celltoolbar": "Create Assignment",
  "kernelspec": {
   "display_name": "Python 3",
   "language": "python",
   "name": "python3"
  },
  "language_info": {
   "codemirror_mode": {
    "name": "ipython",
    "version": 3
   },
   "file_extension": ".py",
   "mimetype": "text/x-python",
   "name": "python",
   "nbconvert_exporter": "python",
   "pygments_lexer": "ipython3",
   "version": "3.6.5"
  }
 },
 "nbformat": 4,
 "nbformat_minor": 5
}
