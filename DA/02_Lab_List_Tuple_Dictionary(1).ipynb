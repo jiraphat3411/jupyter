{
 "cells": [
  {
   "cell_type": "markdown",
   "metadata": {
    "id": "6a12b21e"
   },
   "source": [
    "# คำสั่ง\n",
    "- คะแนนควิซจะมีเพียง 2 แบบคือ 10 คะแนน และ 20 คะแนน\n",
    "     - 10 คะแนน เมื่อทำควิซได้ 50% ขึ้นไป (ตามดุลยพินิจของ พี่ Lab)\n",
    "     - 20 คะแนน เมื่อทำควิซได้ 100% (ถูกต้องและสมบูรณ์)\n",
    "        *หมายเหตุ คิดตามความยากไม่ใช่จำนวนข้อ\n",
    "- อนุญาตให้เพื่อนช่วยเหลือกันได้ด้วยวิธีการของปัญญาชน สอนหรืออธิบายต่างๆ\n",
    "     หากพบมีการทุจริตหรือสงสัยว่ามีการทุจริต และผู้ถูกกล่าวหาว่าทุจริตไม่สามารถพิสูจน์ความบริสุทธิ์ได้ ไม่มีคะแนนในการควิซครั้งนั้น และหากพบว่ามีการร่วมือกัน พิจารณาหักคะแนนผู้สมรู้ร่วมคิด\n",
    "- สามารถเรียก พี่ Lab มาตรวจควิซของตนเองได้เมื่อพร้อม หากไม่ได้เรียกพี่ Lab มาตรวจเท่ากับไม่ได้ส่งควิซ\n",
    "- เมื่อเวลาหมดลงหยุดการตรวจและส่งควิซทันที เพราะฉะนั้น **กรุณาบริหารเวลาให้ดี**"
   ]
  },
  {
   "cell_type": "markdown",
   "metadata": {
    "id": "922dd82d"
   },
   "source": [
    "# รหัสนักศึกษา-ชื่อ-นามสกุล (Heading)"
   ]
  },
  {
   "cell_type": "markdown",
   "metadata": {
    "id": "2c1b49f2"
   },
   "source": [
    "ในการทำแบบฝึกหัดให้เพิ่ม cell ด้านล่างของโจทย์เพื่อเขียน code และแสดงให้เห็นถึงความเปลี่ยนแปลงผ่านทาง output แม้ไม่มีคำสั่งในแสดงผลก็ตาม"
   ]
  },
  {
   "cell_type": "markdown",
   "metadata": {
    "id": "9ff829b2"
   },
   "source": [
    "สร้าง list เพื่อเก็บชื่อมหาวิทยาลัยในประเทศไทย\n",
    "'Bunditpatanasilpa Institute', 'Kalasin University', 'Mahasarakham University', 'Nakhon Phanom University', 'Naresuan University', 'Pathumwan Institute of Technology', 'Praboromarajchanok Institute', 'Princess of Naradhiwas University', 'Ramkhamhaeng University', 'Sukhothai Thammathirat Open University', 'Thailand National Sports University', 'Ubon Ratchathani University', 'Burapha University', 'Chiang Mai University', 'Chulalongkorn University', 'Chulabhorn Graduate Institute', 'HRH Princess Chulabhorn College of Medical Science', 'Kasetsart University', 'Khon Kaen University', \"King Mongkut's Institute of Technology Ladkrabang\", \"King Mongkut's University of Technology North Bangkok\", \"King Mongkut's University of Technology Thonburi\", 'Mae Fah Luang University', 'Maejo University', 'Mahachulalongkornrajavidyalaya University', 'Mahamakut Buddhist University', 'Mahidol University', 'National Institute of Development Administration (NIDA)', 'Navamindradhiraj University', 'University of Phayao', 'Prince of Songkla University', 'Princess Galyani Vadhana Institute of Music', 'Srinakharinwirot University', 'Srisavarindhira Thai Red Cross Institute of Nursing', 'Suan Dusit University', 'Suranaree University of Technology', 'Thaksin University', 'Thammasat University', 'Walailak University', 'Chitralada Technology Institute', 'National Defence College', 'Command and General staff College', 'Phramongkutklao College of Medicine', 'Police Nursing College', 'Judge Advocate General School Thailand', 'Royal Thai Navy College of Nursing', 'Royal Thai Air Force Nursing College', 'Chulachomklao Royal Military Academy', 'Royal Thai Navy Academy', 'Navaminda Kasatriyadhiraj Royal Thai Air Force Academy', 'Royal Police Cadet Academy', 'Civil Aviation Training Center', 'Irrigation College', 'Merchant Marine Training Center', 'Supervisory Unit'"
   ]
  },
  {
   "cell_type": "code",
   "execution_count": 15,
   "metadata": {},
   "outputs": [],
   "source": [
    "University = ['Bunditpatanasilpa Institute', 'Kalasin University', 'Mahasarakham University', 'Nakhon Phanom University', 'Naresuan University', 'Pathumwan Institute of Technology', 'Praboromarajchanok Institute', 'Princess of Naradhiwas University', 'Ramkhamhaeng University', 'Sukhothai Thammathirat Open University', 'Thailand National Sports University', 'Ubon Ratchathani University', 'Burapha University', 'Chiang Mai University', 'Chulalongkorn University', 'Chulabhorn Graduate Institute', 'HRH Princess Chulabhorn College of Medical Science', 'Kasetsart University', 'Khon Kaen University', \"King Mongkut's Institute of Technology Ladkrabang\", \"King Mongkut's University of Technology North Bangkok\", \"King Mongkut's University of Technology Thonburi\", 'Mae Fah Luang University', 'Maejo University', 'Mahachulalongkornrajavidyalaya University', 'Mahamakut Buddhist University', 'Mahidol University', 'National Institute of Development Administration (NIDA)', 'Navamindradhiraj University', 'University of Phayao', 'Prince of Songkla University', 'Princess Galyani Vadhana Institute of Music', 'Srinakharinwirot University', 'Srisavarindhira Thai Red Cross Institute of Nursing', 'Suan Dusit University', 'Suranaree University of Technology', 'Thaksin University', 'Thammasat University', 'Walailak University', 'Chitralada Technology Institute', 'National Defence College', 'Command and General staff College', 'Phramongkutklao College of Medicine', 'Police Nursing College', 'Judge Advocate General School Thailand', 'Royal Thai Navy College of Nursing', 'Royal Thai Air Force Nursing College', 'Chulachomklao Royal Military Academy', 'Royal Thai Navy Academy', 'Navaminda Kasatriyadhiraj Royal Thai Air Force Academy', 'Royal Police Cadet Academy', 'Civil Aviation Training Center', 'Irrigation College', 'Merchant Marine Training Center', 'Supervisory Unit']"
   ]
  },
  {
   "cell_type": "markdown",
   "metadata": {
    "id": "079c4d15"
   },
   "source": [
    "1.พิมพ์ขนาดของ List ที่สร้าง"
   ]
  },
  {
   "cell_type": "code",
   "execution_count": 16,
   "metadata": {},
   "outputs": [
    {
     "name": "stdout",
     "output_type": "stream",
     "text": [
      "55\n"
     ]
    }
   ],
   "source": [
    "print(len(University))"
   ]
  },
  {
   "cell_type": "markdown",
   "metadata": {
    "id": "0c9e4bb9"
   },
   "source": [
    "2.เพิ่มข้อมูล 'Silpakorn University' ต่อจาก index(ตำแหน่ง) สุดท้ายเก็บไว้ใน List ที่สร้าง"
   ]
  },
  {
   "cell_type": "code",
   "execution_count": 17,
   "metadata": {},
   "outputs": [],
   "source": [
    "University.append('Silpakorn University')"
   ]
  },
  {
   "cell_type": "code",
   "execution_count": 177,
   "metadata": {},
   "outputs": [
    {
     "name": "stdout",
     "output_type": "stream",
     "text": [
      "56\n"
     ]
    }
   ],
   "source": [
    "print(len(University))"
   ]
  },
  {
   "cell_type": "markdown",
   "metadata": {
    "id": "3c512f72"
   },
   "source": [
    "3.พิมพ์ข้อมูลที่อยู่ใน List ที่สร้างทุกตัว"
   ]
  },
  {
   "cell_type": "code",
   "execution_count": 18,
   "metadata": {},
   "outputs": [
    {
     "name": "stdout",
     "output_type": "stream",
     "text": [
      "['Bunditpatanasilpa Institute', 'Kalasin University', 'Mahasarakham University', 'Nakhon Phanom University', 'Naresuan University', 'Pathumwan Institute of Technology', 'Praboromarajchanok Institute', 'Princess of Naradhiwas University', 'Ramkhamhaeng University', 'Sukhothai Thammathirat Open University', 'Thailand National Sports University', 'Ubon Ratchathani University', 'Burapha University', 'Chiang Mai University', 'Chulalongkorn University', 'Chulabhorn Graduate Institute', 'HRH Princess Chulabhorn College of Medical Science', 'Kasetsart University', 'Khon Kaen University', \"King Mongkut's Institute of Technology Ladkrabang\", \"King Mongkut's University of Technology North Bangkok\", \"King Mongkut's University of Technology Thonburi\", 'Mae Fah Luang University', 'Maejo University', 'Mahachulalongkornrajavidyalaya University', 'Mahamakut Buddhist University', 'Mahidol University', 'National Institute of Development Administration (NIDA)', 'Navamindradhiraj University', 'University of Phayao', 'Prince of Songkla University', 'Princess Galyani Vadhana Institute of Music', 'Srinakharinwirot University', 'Srisavarindhira Thai Red Cross Institute of Nursing', 'Suan Dusit University', 'Suranaree University of Technology', 'Thaksin University', 'Thammasat University', 'Walailak University', 'Chitralada Technology Institute', 'National Defence College', 'Command and General staff College', 'Phramongkutklao College of Medicine', 'Police Nursing College', 'Judge Advocate General School Thailand', 'Royal Thai Navy College of Nursing', 'Royal Thai Air Force Nursing College', 'Chulachomklao Royal Military Academy', 'Royal Thai Navy Academy', 'Navaminda Kasatriyadhiraj Royal Thai Air Force Academy', 'Royal Police Cadet Academy', 'Civil Aviation Training Center', 'Irrigation College', 'Merchant Marine Training Center', 'Supervisory Unit', 'Silpakorn University']\n"
     ]
    }
   ],
   "source": [
    "print(University)"
   ]
  },
  {
   "cell_type": "markdown",
   "metadata": {
    "id": "9e15e6ed"
   },
   "source": [
    "สร้าง set จากรายชื่อสาขาวิชา\n",
    "\n",
    "    \"Research Science\",\n",
    "    \"Education\",\n",
    "    \"Communication Arts\",\n",
    "    \"Architecture\",\n",
    "    \"Fine Arts\",\n",
    "    \"Science\",\n",
    "    \"Political Science\",\n",
    "    \"Business Administration\",\n",
    "    \"International College\",\n",
    "    \"Veterinary Science\",\n",
    "    \"Pharmacy\",\n",
    "    \"Innovation in Tourism\",\n",
    "    \"Environmental Science\",\n",
    "    \"Sports Science\",\n",
    "    \"Education\",\n"
   ]
  },
  {
   "cell_type": "code",
   "execution_count": 180,
   "metadata": {},
   "outputs": [],
   "source": [
    "sub = {\"Research Science\",\n",
    "\"Education\",\n",
    "\"Communication Arts\",\n",
    "\"Architecture\",\n",
    "\"Fine Arts\",\n",
    "\"Science\",\n",
    "\"Political Science\",\n",
    "\"Business Administration\",\n",
    "\"International College\",\n",
    "\"Veterinary Science\",\n",
    "\"Pharmacy\",\n",
    "\"Innovation in Tourism\",\n",
    "\"Environmental Science\",\n",
    "\"Sports Science\",\n",
    "\"Education\",}"
   ]
  },
  {
   "cell_type": "markdown",
   "metadata": {
    "id": "6d9fb978"
   },
   "source": [
    "4.เพิ่ม\n",
    "  \n",
    "\n",
    "```\n",
    "\"Computer Science\"\n",
    "\"Information Technology\"\n",
    "```\n",
    "\n",
    "\n",
    "เข้าไปใน set ของสาขาวิชา"
   ]
  },
  {
   "cell_type": "code",
   "execution_count": 181,
   "metadata": {},
   "outputs": [
    {
     "name": "stdout",
     "output_type": "stream",
     "text": [
      "{'Environmental Science', 'Computer Science', 'Innovation in Tourism', 'Architecture', 'Political Science', 'Communication Arts', 'Fine Arts', 'International College', 'Information Technology', 'Veterinary Science', 'Pharmacy', 'Business Administration', 'Science', 'Sports Science', 'Research Science', 'Education'}\n"
     ]
    }
   ],
   "source": [
    "sub.add(\"Computer Science\")\n",
    "sub.add(\"Information Technology\")\n",
    "print(sub)"
   ]
  },
  {
   "cell_type": "markdown",
   "metadata": {
    "id": "736dbe98"
   },
   "source": [
    "5.ลบข้อมูล \"Education\" ออกจาก set ของสาขาวิชา\n"
   ]
  },
  {
   "cell_type": "code",
   "execution_count": 182,
   "metadata": {},
   "outputs": [
    {
     "name": "stdout",
     "output_type": "stream",
     "text": [
      "{'Environmental Science', 'Computer Science', 'Innovation in Tourism', 'Architecture', 'Political Science', 'Communication Arts', 'Fine Arts', 'International College', 'Information Technology', 'Veterinary Science', 'Pharmacy', 'Business Administration', 'Science', 'Sports Science', 'Research Science'}\n"
     ]
    }
   ],
   "source": [
    "sub.remove(\"Education\")\n",
    "print(sub)"
   ]
  },
  {
   "cell_type": "markdown",
   "metadata": {
    "id": "5a2b5fd8"
   },
   "source": [
    "สร้าง Dictionaries จากข้อมูลด้านล่างด้วยรูปแบบ key,value ที่ประกอบไปด้วย Professor 3 ท่านคือ Professor1, Professor2, Professor3\n",
    "โดยมีรายละเอียดดังนี้\n",
    "\n",
    "```\n",
    "    \"Professor1\" มี\n",
    "       สอน \"Courses\": \"CourseA\", \"CourseB\", \"CourseC\"\n",
    "        ที่พักอาจารย์ \"Office\": \"Room 101\"\n",
    "         ติดต่อ \"Email\": \"professor1@example.com\"\n",
    "    \n",
    "    \"Professor2\" มี\n",
    "        สอน \"Courses\": [\"CourseD\", \"CourseE\", \"CourseF\"],\n",
    "        ที่พักอาจารย์ \"Office\": \"Room 102\",\n",
    "        ติดต่อ \"Email\": \"professor2@example.com\",\n",
    "  \n",
    "    \"Professor3\" มี\n",
    "        สอน \"Courses\": [\"CourseG\", \"CourseH\", \"CourseI\"],\n",
    "         ที่พักอาจารย์ \"Office\": \"Room 103\",\n",
    "        ติดต่อ \"Email\": \"professor3@example.com\",\n",
    "```\n",
    "\n",
    "\n",
    "\n",
    "\n"
   ]
  },
  {
   "cell_type": "code",
   "execution_count": 166,
   "metadata": {},
   "outputs": [],
   "source": [
    "#Professor1 = {\"Courses\": (\"CourseA\", \"CourseB\", \"CourseC\"),\"Office\": \"Room 101\",\"Email\": \"professor1@example.com\"}\n",
    "#Professor2 = {\"Courses\": (\"CourseD\", \"CourseE\", \"CourseF\"),\"Office\": \"Room 102\",\"Email\": \"professor2@example.com\"}\n",
    "#Professor3 = {\"Courses\": (\"CourseG\", \"CourseH\", \"CourseI\"),\"Office\": \"Room 103\",\"Email\": \"professor3@example.com\"}\n",
    "Professor = {\"Professor1\":{\"Courses\": [\"CourseA\", \"CourseB\", \"CourseC\"],\"Office\": \"Room 101\",\"Email\": \"professor1@example.com\"},\n",
    "             \"Professor2\":{\"Courses\": [\"CourseD\", \"CourseE\", \"CourseF\"],\"Office\": \"Room 102\",\"Email\": \"professor2@example.com\"},\n",
    "             \"Professor3\":{\"Courses\": [\"CourseG\", \"CourseH\", \"CourseI\"],\"Office\": \"Room 103\",\"Email\": \"professor3@example.com\"}\n",
    "            }"
   ]
  },
  {
   "cell_type": "markdown",
   "metadata": {
    "id": "bff3f6a3"
   },
   "source": [
    "6.พิมพ์ค่า key และ value ทั้งหมดใน Dictionaries ที่สร้าง"
   ]
  },
  {
   "cell_type": "code",
   "execution_count": 167,
   "metadata": {},
   "outputs": [
    {
     "name": "stdout",
     "output_type": "stream",
     "text": [
      "{'Professor1': {'Courses': ['CourseA', 'CourseB', 'CourseC'], 'Office': 'Room 101', 'Email': 'professor1@example.com'}, 'Professor2': {'Courses': ['CourseD', 'CourseE', 'CourseF'], 'Office': 'Room 102', 'Email': 'professor2@example.com'}, 'Professor3': {'Courses': ['CourseG', 'CourseH', 'CourseI'], 'Office': 'Room 103', 'Email': 'professor3@example.com'}}\n"
     ]
    }
   ],
   "source": [
    "#print(\"Professor1 = \",Professor1)\n",
    "#print(\"Professor2 = \",Professor2)\n",
    "#print(\"Professor3 = \",Professor3)\n",
    "print(Professor)"
   ]
  },
  {
   "cell_type": "markdown",
   "metadata": {
    "id": "6bb0e521"
   },
   "source": [
    "7.เปลี่ยนชื่อ \"Professor1\" เป็น \"Professor Sunee\" ใน Dictionaries"
   ]
  },
  {
   "cell_type": "code",
   "execution_count": 168,
   "metadata": {},
   "outputs": [
    {
     "name": "stdout",
     "output_type": "stream",
     "text": [
      "{'Professor2': {'Courses': ['CourseD', 'CourseE', 'CourseF'], 'Office': 'Room 102', 'Email': 'professor2@example.com'}, 'Professor3': {'Courses': ['CourseG', 'CourseH', 'CourseI'], 'Office': 'Room 103', 'Email': 'professor3@example.com'}, 'Professor Sunee': {'Courses': ['CourseA', 'CourseB', 'CourseC'], 'Office': 'Room 101', 'Email': 'professor1@example.com'}}\n"
     ]
    }
   ],
   "source": [
    "Professor[\"Professor Sunee\"] = Professor[\"Professor1\"]\n",
    "Professor.pop(\"Professor1\")\n",
    "print(Professor)"
   ]
  },
  {
   "cell_type": "markdown",
   "metadata": {
    "id": "b0tmP09Ls2xz"
   },
   "source": [
    "8.เปลี่ยนชื่อ \"CourseA\" เป็น \"data structure\" และเปลี่ยนชื่อ \"CourseI\" เป็น \"linear algebra\""
   ]
  },
  {
   "cell_type": "code",
   "execution_count": 169,
   "metadata": {},
   "outputs": [],
   "source": [
    "p = Professor[\"Professor Sunee\"]\n",
    "p1 = p[\"Courses\"]\n",
    "p1.insert(1,\"data structure\")\n",
    "p1.remove(\"CourseA\")\n",
    "p[\"Courses\"] = p1\n",
    "Professor[\"Professor Sunee\"] = p\n",
    "#print(Professor)\n",
    "#-----------------------------------------\n",
    "p2 = Professor[\"Professor3\"]\n",
    "p3 = p2[\"Courses\"]\n",
    "p3.remove(\"CourseI\")\n",
    "p3.append(\"linear algebra\")\n",
    "p2[\"Courses\"] = p3\n",
    "Professor[\"Professor3\"] = p2\n",
    "#print(Professor)"
   ]
  },
  {
   "cell_type": "markdown",
   "metadata": {
    "id": "w8XtnpzqtNk-"
   },
   "source": [
    "9.แสดง Courses ทุก Courses จากทุก Professor"
   ]
  },
  {
   "cell_type": "code",
   "execution_count": 173,
   "metadata": {},
   "outputs": [
    {
     "name": "stdout",
     "output_type": "stream",
     "text": [
      "['data structure', 'CourseB', 'CourseC']\n",
      "['CourseD', 'CourseE', 'CourseF']\n",
      "['CourseG', 'CourseH', 'linear algebra']\n"
     ]
    }
   ],
   "source": [
    "print(Professor[\"Professor Sunee\"][\"Courses\"])\n",
    "print(Professor[\"Professor2\"][\"Courses\"])\n",
    "print(Professor[\"Professor3\"][\"Courses\"])"
   ]
  },
  {
   "cell_type": "markdown",
   "metadata": {
    "id": "IBwC_hfFtYjZ"
   },
   "source": [
    "10.Professor3 ลาออก จงลบข้อมูลของ Professor3 ออกจาก Dictionaries ที่สร้าง"
   ]
  },
  {
   "cell_type": "code",
   "execution_count": 174,
   "metadata": {},
   "outputs": [
    {
     "data": {
      "text/plain": [
       "{'Courses': ['CourseG', 'CourseH', 'linear algebra'],\n",
       " 'Office': 'Room 103',\n",
       " 'Email': 'professor3@example.com'}"
      ]
     },
     "execution_count": 174,
     "metadata": {},
     "output_type": "execute_result"
    }
   ],
   "source": [
    "Professor.pop(\"Professor3\")"
   ]
  },
  {
   "cell_type": "code",
   "execution_count": 176,
   "metadata": {},
   "outputs": [],
   "source": [
    "#print(Professor)"
   ]
  },
  {
   "cell_type": "code",
   "execution_count": null,
   "metadata": {},
   "outputs": [],
   "source": []
  }
 ],
 "metadata": {
  "colab": {
   "provenance": []
  },
  "kernelspec": {
   "display_name": "Python 3",
   "language": "python",
   "name": "python3"
  },
  "language_info": {
   "codemirror_mode": {
    "name": "ipython",
    "version": 3
   },
   "file_extension": ".py",
   "mimetype": "text/x-python",
   "name": "python",
   "nbconvert_exporter": "python",
   "pygments_lexer": "ipython3",
   "version": "3.6.5"
  }
 },
 "nbformat": 4,
 "nbformat_minor": 5
}
