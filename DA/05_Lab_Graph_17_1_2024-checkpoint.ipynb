{
 "cells": [
  {
   "cell_type": "code",
   "execution_count": null,
   "metadata": {
    "id": "r7_Rmofnyf0g"
   },
   "outputs": [],
   "source": [
    "#Import Python Libraries\n",
    "import numpy as np\n",
    "import scipy as sp\n",
    "import pandas as pd\n",
    "import matplotlib.pyplot as plt\n",
    "import seaborn as sns"
   ]
  },
  {
   "cell_type": "markdown",
   "metadata": {
    "id": "OevEHGuKyf0y"
   },
   "source": [
    "### Explore data using graphics"
   ]
  },
  {
   "cell_type": "code",
   "execution_count": null,
   "metadata": {
    "id": "GGQmtBIdyf0z",
    "outputId": "8abe4cb2-de19-41be-8012-3342f466b943"
   },
   "outputs": [],
   "source": [
    "movies = [\"Annie Hall\", \"Ben-Hur\", \"Casablanca\", \"Gandhi\", \"West Side Story\"]\n",
    "num_oscars = [5, 11, 3, 8, 10]\n",
    "\n",
    "xs = range(len(movies)) # xs is range(5)\n",
    "\n",
    "# plot bars with left x-coordinates [xs], \u000b",
    "\n",
    "# heights [num_oscars]\n",
    "# plt.bar(range, value, color=('r','g','b','r','b'))\n",
    "# plt.bar(range, value)\n",
    "\n",
    "# label x-axis with movie names at bar centers\n",
    "# plt.xticks(range, value)\n",
    "\n",
    "# alternatively, use the following to replace \u000b",
    "\n",
    "# the two lines above\n",
    "#plt.bar(xs, num_oscars, tick_label=movies)\n",
    "\n",
    "plt.ylabel(\"# of Academy Awards\")\n",
    "plt.title(\"My Favorite Movies\")\n",
    "plt.show()"
   ]
  },
  {
   "cell_type": "code",
   "execution_count": null,
   "metadata": {
    "id": "mnSgtZtbyf0z",
    "outputId": "5f6b8f50-2d47-4423-8070-ea9da0678ee3"
   },
   "outputs": [],
   "source": [
    "years = list(range(1950, 2011, 10))\n",
    "gdp1 = [300.2, 543.3, 1075.9, 2862.5, 5979.6, 10289.7, 14958.3]\n",
    "gdp2 = [226.0, 362.0, 928.0, 1992.0, 4931.0, 7488.0, 12147.0]\n",
    "gdp3 = [1206.0, 1057.0, 1081.0, 2940.0, 8813.0, 13502.0, 19218.0]\n",
    "\n",
    "# create a line chart, years on x-axis, gdp on y-axis\n",
    "# use format string to specify color, marker, and line style\n",
    "# e.g. ‘bo-’: color=‘blue’, marker=‘o’, linestyle=‘solid’\n",
    "plt.plot(years, gdp1, \"bo-\", years, gdp2, \"r:\", years, gdp3, \"gd-.\")\n",
    "         \n",
    "# add a title \"Nominal GDP\"\n",
    "# plt.title(...)\n",
    "         \n",
    "# add a label \"Billions of $\" to the y-axis\n",
    "# plt.ylabel(...)\n",
    "         \n",
    "# add a label \"Year\" to the x-axis\n",
    "# plt.xlabel(...)\n",
    "         \n",
    "# add legend \"countryA\", \"countryB\", \"countryC\"\n",
    "# plt.legend(...)\n",
    "plt.show()"
   ]
  },
  {
   "cell_type": "code",
   "execution_count": null,
   "metadata": {
    "id": "o6g9h4D9yf0z",
    "outputId": "dfc809a4-a60c-4cce-93a1-3ba2529a4c17"
   },
   "outputs": [],
   "source": [
    "movies = [\"Annie Hall\", \"Ben-Hur\", \"Casablanca\", \"Gandhi\", \"West Side Story\"]\n",
    "num_oscars = [5, 11, 3, 8, 10]\n",
    "\n",
    "#sns.barplot(range, value,palette=('r','g','b','r','b')).set(ylabel = \"# of Academy Awards\", title ='My Favorite Movies')\n",
    "# or\n",
    "#sns.barplot(range, value).set(ylabel = \"# of Academy Awards\", title ='My Favorite Movies')\n",
    "\n",
    "# your code\n",
    "\n",
    "plt.show()"
   ]
  },
  {
   "cell_type": "code",
   "execution_count": null,
   "metadata": {
    "id": "HYPlW2dTyf00",
    "outputId": "f31fa1a6-f428-4c79-c8a8-dfddb84906fe"
   },
   "outputs": [],
   "source": [
    "df = pd.read_csv(\"Salaries.csv\")\n",
    "df.head()"
   ]
  },
  {
   "cell_type": "code",
   "execution_count": null,
   "metadata": {
    "id": "lG12gr-fyf00"
   },
   "outputs": [],
   "source": [
    "#Show graphs withint Python notebook\n",
    "%matplotlib inline"
   ]
  },
  {
   "cell_type": "code",
   "execution_count": null,
   "metadata": {
    "id": "0myh1WOqyf00",
    "outputId": "fed734f6-ce3a-407f-9d1c-e5839937b0fa"
   },
   "outputs": [],
   "source": [
    "#Use matplotlib to draw a histogram of a salary data\n",
    "#plt.hist(df['salary'],bins=8, [color = 'color', edgecolor = 'color'])\n"
   ]
  },
  {
   "cell_type": "code",
   "execution_count": null,
   "metadata": {
    "id": "M-0cR0BYyf00",
    "outputId": "74bc19d9-68af-43e0-cb03-b7d84052e2c4"
   },
   "outputs": [],
   "source": [
    "# ใช้ dataframe เพื่อ plot pieplot rank,salary\n",
    "# dataframe.groupby(['col'])['col'].count().plot(kind='pie')\n",
    "\n",
    "# your code"
   ]
  },
  {
   "cell_type": "code",
   "execution_count": null,
   "metadata": {
    "id": "T63Fy_C1yf01",
    "outputId": "f6123296-fdd5-41c6-d2ef-440cd48aa8f2"
   },
   "outputs": [],
   "source": [
    "#การ plot pie graph โดยใช้ matplot \n",
    "# 1. dataframe.groupby(['col'])['col'].count() แบ่งกลุ่มและนับข้อมูล\n",
    "# 2. plt.pie(value จากข้อ 1, labels=value จากข้อ 1.index)\n",
    "\n",
    "rank_salary = #your code\n",
    "plt.pie( ... )"
   ]
  },
  {
   "cell_type": "code",
   "execution_count": null,
   "metadata": {
    "id": "sIsp5x0Xyf01",
    "outputId": "e06e5cfb-2e3d-4fa6-896e-bcfaa6049a22"
   },
   "outputs": [],
   "source": [
    "# ใช้ dataframe เพื่อ plot bar rank,salary\n",
    "# dataframe.groupby(['col'])['col'].count().plot(kind='bar')\n",
    "\n"
   ]
  },
  {
   "cell_type": "code",
   "execution_count": null,
   "metadata": {
    "id": "mXqUnL8jyf01",
    "outputId": "91730729-59e3-4d0c-8851-9663c62c2edb"
   },
   "outputs": [],
   "source": [
    "# ใช้ dataframe เพื่อ plot pie service,salary\n",
    "# dataframe.groupby(['col1'])['col2'].count().plot(kind='pie', x='title col1', y='title col2')\n",
    "\n"
   ]
  },
  {
   "cell_type": "code",
   "execution_count": null,
   "metadata": {
    "id": "HV2y0ixyyf01",
    "outputId": "fbb0184a-dd15-4e74-8fdd-0ec51003992d"
   },
   "outputs": [],
   "source": [
    "# scatter plot service,salary\n",
    "# plt.scatter(dataframe['col1'], dataframe['col2'], color = \"red\")\n"
   ]
  },
  {
   "cell_type": "code",
   "execution_count": null,
   "metadata": {
    "id": "koN7mpQMyf02",
    "outputId": "862c24d5-3b5e-4318-f67c-47d16fe2e892"
   },
   "outputs": [],
   "source": [
    "#Use seaborn package to draw a histogram [salary]\n",
    "# sns.distplot(dataframe['col']);"
   ]
  },
  {
   "cell_type": "code",
   "execution_count": null,
   "metadata": {
    "id": "5xETTOK2yf02",
    "outputId": "e0c07b3c-70c8-44ff-9952-0a7127724d03"
   },
   "outputs": [],
   "source": [
    "# Use regular matplotlib function to display a barplot ['rank','salary']\n",
    "# dataframe.groupby(['col'])['col'].count().plot(kind='bar')"
   ]
  },
  {
   "cell_type": "code",
   "execution_count": null,
   "metadata": {
    "id": "Ow11yF94yf02",
    "outputId": "5797f94a-673e-494b-c4a6-321639017e91",
    "scrolled": false
   },
   "outputs": [],
   "source": [
    "# Use seaborn package to display a barplot 'rank','salary'\n",
    "# sns.set_style(\"whitegrid\")\n",
    "# ax = sns.barplot(x='col1',y ='col2', data=dataframe, estimator=len)"
   ]
  },
  {
   "cell_type": "code",
   "execution_count": null,
   "metadata": {
    "id": "jj8KUoNFyf02",
    "outputId": "1116b9aa-ab74-4221-f077-e4796c4d285a"
   },
   "outputs": [],
   "source": [
    "# Split into 2 groups: 'rank','salary','sex'\n",
    "# ax = sns.barplot(x='col_groups1',y ='col_value', hue='col_groups2',  data=dataframe, estimator=len)"
   ]
  },
  {
   "cell_type": "code",
   "execution_count": null,
   "metadata": {
    "id": "CM7dYyiLyf03",
    "outputId": "8bea4b96-dc7e-4ca0-f2c8-4d30f951ea6a"
   },
   "outputs": [],
   "source": [
    "#If we are interested in linear regression plot for 2 numeric variables we can use regplot\n",
    "# service,salary\n",
    "# sns.regplot(x='col1', y='col2', data=dataframe)"
   ]
  },
  {
   "cell_type": "code",
   "execution_count": null,
   "metadata": {
    "id": "Hj21CiECyf03",
    "outputId": "6e41a73f-d4ac-431d-c5c1-ea96aa94bc2f"
   },
   "outputs": [],
   "source": [
    "# box plot 'rank','salary'\n",
    "# sns.boxplot(x='col1',y='col2', data=df)"
   ]
  },
  {
   "cell_type": "code",
   "execution_count": null,
   "metadata": {
    "id": "-ZXejYb3yf03",
    "outputId": "817a89fd-e50b-424c-faf5-1326e19db3e8"
   },
   "outputs": [],
   "source": [
    "# side-by-side box plot 'rank','salary','sex'\n",
    "# sns.boxplot(x='col1',y='col2', data=dataframe, hue='col2')"
   ]
  },
  {
   "cell_type": "code",
   "execution_count": null,
   "metadata": {
    "id": "HWYXiqIMyf03",
    "outputId": "55322111-7eb7-4128-e7a4-82b2dae35bad"
   },
   "outputs": [],
   "source": [
    "# Pairplot \n",
    "# sns.pairplot(dataframe)"
   ]
  }
 ],
 "metadata": {
  "colab": {
   "name": "05-Lab-Missing-Graph-26-Jan-2022.ipynb",
   "provenance": []
  },
  "kernelspec": {
   "display_name": "Python 3",
   "language": "python",
   "name": "python3"
  },
  "language_info": {
   "codemirror_mode": {
    "name": "ipython",
    "version": 3
   },
   "file_extension": ".py",
   "mimetype": "text/x-python",
   "name": "python",
   "nbconvert_exporter": "python",
   "pygments_lexer": "ipython3",
   "version": "3.6.5"
  }
 },
 "nbformat": 4,
 "nbformat_minor": 1
}
